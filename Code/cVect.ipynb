{
 "cells": [
  {
   "cell_type": "code",
   "execution_count": 1,
   "metadata": {},
   "outputs": [],
   "source": [
    "import sys\n",
    "sys.path.append('..')\n",
    "import warnings\n",
    "warnings.filterwarnings('ignore')"
   ]
  },
  {
   "cell_type": "code",
   "execution_count": 2,
   "metadata": {},
   "outputs": [],
   "source": [
    "import pandas as pd\n",
    "import numpy as np\n",
    "import re\n",
    "from sklearn.ensemble import RandomForestClassifier\n",
    "from sklearn.naive_bayes import GaussianNB\n",
    "import Utils.dataframe as dataframe_helper\n",
    "import Utils.learning as learning\n",
    "from sklearn.model_selection import train_test_split\n",
    "from sklearn.feature_extraction.text import CountVectorizer\n",
    "from sklearn.linear_model import LogisticRegression\n",
    "from sklearn.model_selection import GridSearchCV\n",
    "from sklearn.metrics import accuracy_score, classification_report, confusion_matrix"
   ]
  },
  {
   "cell_type": "code",
   "execution_count": 3,
   "metadata": {},
   "outputs": [],
   "source": [
    "experiment_name = \"Unigram Model\""
   ]
  },
  {
   "cell_type": "markdown",
   "metadata": {},
   "source": [
    "## Feature Engineering"
   ]
  },
  {
   "cell_type": "code",
   "execution_count": 4,
   "metadata": {},
   "outputs": [],
   "source": [
    "def feature_engineering_one_hot(df:pd.DataFrame, N:int = None) -> pd.DataFrame:\n",
    "    with open(\"../Data/top_word/top_fake_word.txt\", \"r\") as f:\n",
    "        fake_words = dataframe_helper.string_to_list(f.read())\n",
    "  \n",
    "    with open(\"../Data/top_word/top_genuine_word.txt\", \"r\") as f:\n",
    "        non_fake_words = dataframe_helper.string_to_list(f.read())\n",
    "\n",
    "    fake_words = fake_words[:N]\n",
    "    non_fake_words = non_fake_words[:N]\n",
    "        \n",
    "    # KL one hot encoding\n",
    "    fakeWordOneHot = []\n",
    "    nonFakeWordOneHot = []\n",
    "\n",
    "    for content in df['reviewContent']:\n",
    "        fakeOneHot = ''\n",
    "        nonFakeOneHot = ''\n",
    "        words = re.findall(r'\\b[A-Za-z][a-z]{2,9}\\b', content)\n",
    "\n",
    "        for word in fake_words:\n",
    "            if word in words:\n",
    "                fakeOneHot += '1'\n",
    "            else:\n",
    "                fakeOneHot += '0'\n",
    "\n",
    "        for word in non_fake_words:\n",
    "            if word in words:\n",
    "                nonFakeOneHot += '1'\n",
    "            else:\n",
    "                nonFakeOneHot += '0'\n",
    "                \n",
    "        fakeWordOneHot.append(fakeOneHot)\n",
    "        nonFakeWordOneHot.append(nonFakeOneHot)\n",
    "    \n",
    "    result = pd.DataFrame()\n",
    "    result['fakeWordsOneHot'] = fakeWordOneHot\n",
    "    result['nonFakeWordsOneHot'] = nonFakeWordOneHot\n",
    "\n",
    "    result = dataframe_helper.onehot(result, 'fakeWordsOneHot', fake_words, 'fake')\n",
    "    result = dataframe_helper.onehot(result, 'nonFakeWordsOneHot', non_fake_words, 'non fake')\n",
    "    \n",
    "    result['reviewContent'] = df['reviewContent']\n",
    "    result['flagged'] = df['flagged']\n",
    "\n",
    "    return result\n",
    "    "
   ]
  },
  {
   "cell_type": "code",
   "execution_count": 5,
   "metadata": {},
   "outputs": [],
   "source": [
    "def feature_engineering_word_count(df:pd.DataFrame, N:int = None) -> pd.DataFrame:\n",
    "    with open(\"../Data/top_word/top_fake_word.txt\", \"r\") as f:\n",
    "        fake_words = dataframe_helper.string_to_list(f.read())\n",
    "  \n",
    "    with open(\"../Data/top_word/top_genuine_word.txt\", \"r\") as f:\n",
    "        non_fake_words = dataframe_helper.string_to_list(f.read())\n",
    "\n",
    "    fake_words = fake_words[:N]\n",
    "    non_fake_words = non_fake_words[:N]\n",
    "        \n",
    "    # KL word count\n",
    "    fakeWordsCount = []\n",
    "    nonFakeWordsCount = []\n",
    "\n",
    "    for content in df['reviewContent']:\n",
    "        words = re.findall(r'\\b[A-Za-z][a-z]{2,9}\\b', content)\n",
    "        fakeCount = 0\n",
    "        nonFakeCount = 0\n",
    "        for word in words:\n",
    "            if word in fake_words:\n",
    "                fakeCount += 1\n",
    "            elif word in non_fake_words:\n",
    "                nonFakeCount += 1\n",
    "        fakeWordsCount.append(fakeCount)\n",
    "        nonFakeWordsCount.append(nonFakeCount)\n",
    "\n",
    "    result = pd.DataFrame()\n",
    "    result['fakeWordsCount'] = fakeWordsCount\n",
    "    result['nonFakeWordsCount'] = nonFakeWordsCount\n",
    "    result['reviewContent'] = df['reviewContent']\n",
    "    result['flagged'] = df['flagged']\n",
    "    \n",
    "    return result\n",
    "    "
   ]
  },
  {
   "cell_type": "code",
   "execution_count": 6,
   "metadata": {},
   "outputs": [],
   "source": [
    "def feature_engineering_cVect(df:pd.DataFrame, N:int = None) -> pd.DataFrame:\n",
    "    result = pd.DataFrame()\n",
    "    result['reviewContent'] = df['reviewContent']\n",
    "    result['flagged'] = df['flagged']\n",
    "    return result\n",
    "    "
   ]
  },
  {
   "cell_type": "markdown",
   "metadata": {},
   "source": [
    "## Make train dataset"
   ]
  },
  {
   "cell_type": "code",
   "execution_count": 7,
   "metadata": {},
   "outputs": [],
   "source": [
    "df = dataframe_helper.load_data()\n",
    "df = dataframe_helper.data_cleaning(df)\n",
    "df = feature_engineering_cVect(df)\n",
    "# df = feature_engineering_one_hot(df)\n",
    "# df = feature_engineering_word_count(df)"
   ]
  },
  {
   "cell_type": "code",
   "execution_count": 8,
   "metadata": {},
   "outputs": [
    {
     "data": {
      "text/html": [
       "<div>\n",
       "<style scoped>\n",
       "    .dataframe tbody tr th:only-of-type {\n",
       "        vertical-align: middle;\n",
       "    }\n",
       "\n",
       "    .dataframe tbody tr th {\n",
       "        vertical-align: top;\n",
       "    }\n",
       "\n",
       "    .dataframe thead th {\n",
       "        text-align: right;\n",
       "    }\n",
       "</style>\n",
       "<table border=\"1\" class=\"dataframe\">\n",
       "  <thead>\n",
       "    <tr style=\"text-align: right;\">\n",
       "      <th></th>\n",
       "      <th>reviewContent</th>\n",
       "      <th>flagged</th>\n",
       "    </tr>\n",
       "  </thead>\n",
       "  <tbody>\n",
       "    <tr>\n",
       "      <th>0</th>\n",
       "      <td>unlike next we d eaten previous night dish com...</td>\n",
       "      <td>N</td>\n",
       "    </tr>\n",
       "    <tr>\n",
       "      <th>1</th>\n",
       "      <td>probably one best meals i ve ever it s perform...</td>\n",
       "      <td>N</td>\n",
       "    </tr>\n",
       "    <tr>\n",
       "      <th>2</th>\n",
       "      <td>service impeccable experience presentation coo...</td>\n",
       "      <td>N</td>\n",
       "    </tr>\n",
       "    <tr>\n",
       "      <th>3</th>\n",
       "      <td>the problem places like this given exhorbitant...</td>\n",
       "      <td>N</td>\n",
       "    </tr>\n",
       "    <tr>\n",
       "      <th>4</th>\n",
       "      <td>i idea write review dining alinea brings whole...</td>\n",
       "      <td>N</td>\n",
       "    </tr>\n",
       "    <tr>\n",
       "      <th>...</th>\n",
       "      <td>...</td>\n",
       "      <td>...</td>\n",
       "    </tr>\n",
       "    <tr>\n",
       "      <th>26953</th>\n",
       "      <td>it s taco bell higher prices taco bell what st...</td>\n",
       "      <td>N</td>\n",
       "    </tr>\n",
       "    <tr>\n",
       "      <th>26954</th>\n",
       "      <td>yellow rose favorite mine i d go every day i c...</td>\n",
       "      <td>N</td>\n",
       "    </tr>\n",
       "    <tr>\n",
       "      <th>26955</th>\n",
       "      <td>not bad we ate odd wicker seats inviting we at...</td>\n",
       "      <td>N</td>\n",
       "    </tr>\n",
       "    <tr>\n",
       "      <th>26956</th>\n",
       "      <td>we surprised eagerly roped pop trivia game upo...</td>\n",
       "      <td>N</td>\n",
       "    </tr>\n",
       "    <tr>\n",
       "      <th>26957</th>\n",
       "      <td>a gorgeous shy young teen asked owner could si...</td>\n",
       "      <td>N</td>\n",
       "    </tr>\n",
       "  </tbody>\n",
       "</table>\n",
       "<p>26958 rows × 2 columns</p>\n",
       "</div>"
      ],
      "text/plain": [
       "                                           reviewContent flagged\n",
       "0      unlike next we d eaten previous night dish com...       N\n",
       "1      probably one best meals i ve ever it s perform...       N\n",
       "2      service impeccable experience presentation coo...       N\n",
       "3      the problem places like this given exhorbitant...       N\n",
       "4      i idea write review dining alinea brings whole...       N\n",
       "...                                                  ...     ...\n",
       "26953  it s taco bell higher prices taco bell what st...       N\n",
       "26954  yellow rose favorite mine i d go every day i c...       N\n",
       "26955  not bad we ate odd wicker seats inviting we at...       N\n",
       "26956  we surprised eagerly roped pop trivia game upo...       N\n",
       "26957  a gorgeous shy young teen asked owner could si...       N\n",
       "\n",
       "[26958 rows x 2 columns]"
      ]
     },
     "execution_count": 8,
     "metadata": {},
     "output_type": "execute_result"
    }
   ],
   "source": [
    "df"
   ]
  },
  {
   "cell_type": "code",
   "execution_count": 9,
   "metadata": {},
   "outputs": [
    {
     "data": {
      "text/plain": [
       "N    20752\n",
       "Y     6206\n",
       "Name: flagged, dtype: int64"
      ]
     },
     "execution_count": 9,
     "metadata": {},
     "output_type": "execute_result"
    }
   ],
   "source": [
    "df['flagged'].value_counts()"
   ]
  },
  {
   "cell_type": "code",
   "execution_count": 10,
   "metadata": {},
   "outputs": [
    {
     "name": "stdout",
     "output_type": "stream",
     "text": [
      "Over-Sampling Data\n",
      "Over-Sampling Complete\n"
     ]
    }
   ],
   "source": [
    "over_sampled_df = dataframe_helper.over_sampling(df=df, target='flagged', big_sample='Y', small_sample='N')"
   ]
  },
  {
   "cell_type": "code",
   "execution_count": 11,
   "metadata": {},
   "outputs": [
    {
     "data": {
      "text/plain": [
       "N    20752\n",
       "Y    20752\n",
       "Name: flagged, dtype: int64"
      ]
     },
     "execution_count": 11,
     "metadata": {},
     "output_type": "execute_result"
    }
   ],
   "source": [
    "over_sampled_df['flagged'].value_counts()"
   ]
  },
  {
   "cell_type": "code",
   "execution_count": 10,
   "metadata": {},
   "outputs": [],
   "source": [
    "X = over_sampled_df.loc[:, 'reviewContent']\n",
    "y = over_sampled_df.loc[:, 'flagged']"
   ]
  },
  {
   "cell_type": "code",
   "execution_count": 11,
   "metadata": {},
   "outputs": [],
   "source": [
    "X_train, X_test, y_train, y_test = train_test_split(X, y, test_size=0.20, random_state=11)"
   ]
  },
  {
   "cell_type": "code",
   "execution_count": 12,
   "metadata": {},
   "outputs": [
    {
     "data": {
      "text/plain": [
       "CountVectorizer()"
      ]
     },
     "execution_count": 12,
     "metadata": {},
     "output_type": "execute_result"
    }
   ],
   "source": [
    "cVect = CountVectorizer()\n",
    "cVect.fit(X_train)"
   ]
  },
  {
   "cell_type": "code",
   "execution_count": 13,
   "metadata": {},
   "outputs": [],
   "source": [
    "# document term vector (dtv)\n",
    "dtv = cVect.transform(X_train)\n",
    "dtv = dtv.toarray()"
   ]
  },
  {
   "cell_type": "code",
   "execution_count": 14,
   "metadata": {},
   "outputs": [],
   "source": [
    "# lr = LogisticRegression(verbose=1)\n",
    "\n",
    "# grid={\"C\":[float(i) for i in range(1, 3)], \"penalty\":[\"l2\"], \"solver\":[ 'lbfgs', 'liblinear']}\n",
    "# logreg_cv=GridSearchCV(lr, grid, cv=4)\n",
    "# logreg_cv.fit(dtv,y_train)\n",
    "\n",
    "# print(\"Tuned Hpyerparameters :\",logreg_cv.best_params_)\n",
    "# print(\"accuracy :\",logreg_cv.best_score_)"
   ]
  },
  {
   "cell_type": "code",
   "execution_count": 15,
   "metadata": {},
   "outputs": [
    {
     "data": {
      "text/plain": [
       "LogisticRegression(C=2.0, solver='liblinear')"
      ]
     },
     "execution_count": 15,
     "metadata": {},
     "output_type": "execute_result"
    }
   ],
   "source": [
    "lr = LogisticRegression(solver='liblinear', penalty ='l2' , C = 2.0)\n",
    "lr.fit(dtv, y_train)"
   ]
  },
  {
   "cell_type": "code",
   "execution_count": 16,
   "metadata": {},
   "outputs": [
    {
     "name": "stdout",
     "output_type": "stream",
     "text": [
      "Number of Observations: 8301\n",
      "Tokens/Features: 36777\n"
     ]
    }
   ],
   "source": [
    "test_dtv = cVect.transform(X_test)\n",
    "test_dtv = test_dtv.toarray()\n",
    "print(f\"Number of Observations: {test_dtv.shape[0]}\\nTokens/Features: {test_dtv.shape[1]}\")"
   ]
  },
  {
   "cell_type": "code",
   "execution_count": 17,
   "metadata": {},
   "outputs": [
    {
     "name": "stdout",
     "output_type": "stream",
     "text": [
      "              precision    recall  f1-score   support\n",
      "\n",
      "           N       0.92      0.73      0.82      4202\n",
      "           Y       0.77      0.94      0.85      4099\n",
      "\n",
      "    accuracy                           0.83      8301\n",
      "   macro avg       0.85      0.83      0.83      8301\n",
      "weighted avg       0.85      0.83      0.83      8301\n",
      "\n"
     ]
    }
   ],
   "source": [
    "pred = lr.predict(test_dtv)\n",
    "print(classification_report(y_test, pred))"
   ]
  },
  {
   "cell_type": "code",
   "execution_count": 20,
   "metadata": {},
   "outputs": [],
   "source": [
    "import matplotlib.pyplot as plt\n",
    "import seaborn as sns\n",
    "sns.set_style('whitegrid')\n",
    "from nltk.corpus import stopwords \n",
    "from nltk.tokenize import word_tokenize\n",
    "stop_words = set(stopwords.words('english')) "
   ]
  },
  {
   "cell_type": "code",
   "execution_count": 27,
   "metadata": {},
   "outputs": [],
   "source": [
    "def predict_class(lr):\n",
    "    text = input('Enter Text: ')\n",
    "    text = [' '.join([ word for word in word_tokenize(text)  if not word in stop_words])]\n",
    "    t_dtv = cVect.transform(text).toarray()\n",
    "    print('Predicted Class:', end = ' ')\n",
    "    print(lr.predict(t_dtv)[0]) \n",
    "    prob = lr.predict_proba(t_dtv)*100\n",
    "    print(f\"Not Fake: {prob[0][0]}%\\nFake: {prob[0][1]}%\")\n",
    "    plt.figure(figsize=(12, 6))\n",
    "    sns.barplot(x =['Not Fake', 'Fake'] , y = [prob[0][0], prob[0][1]])\n",
    "    plt.xlabel('Class')\n",
    "    plt.ylabel('Probalility')\n",
    "    plt.show()"
   ]
  },
  {
   "cell_type": "code",
   "execution_count": 28,
   "metadata": {},
   "outputs": [
    {
     "name": "stdout",
     "output_type": "stream",
     "text": [
      "Predicted Class: Y\n",
      "Not Fake: 37.1593016198055%\n",
      "Fake: 62.8406983801945%\n"
     ]
    },
    {
     "data": {
      "image/png": "[encoded data removed]",
      "text/plain": [
       "<Figure size 864x432 with 1 Axes>"
      ]
     },
     "metadata": {},
     "output_type": "display_data"
    }
   ],
   "source": [
    "predict_class(lr)"
   ]
  },
  {
   "cell_type": "code",
   "execution_count": 29,
   "metadata": {},
   "outputs": [
    {
     "data": {
      "text/plain": [
       "['fake_nonFake_cVect.joblib']"
      ]
     },
     "execution_count": 29,
     "metadata": {},
     "output_type": "execute_result"
    }
   ],
   "source": [
    "import joblib\n",
    "joblib.dump(lr, \"fake_nonFake_lr.joblib\") \n",
    "joblib.dump(cVect, \"fake_nonFake_cVect.joblib\")"
   ]
  }
 ],
 "metadata": {
  "kernelspec": {
   "display_name": "Python 3.9.12 64-bit",
   "language": "python",
   "name": "python3"
  },
  "language_info": {
   "codemirror_mode": {
    "name": "ipython",
    "version": 3
   },
   "file_extension": ".py",
   "mimetype": "text/x-python",
   "name": "python",
   "nbconvert_exporter": "python",
   "pygments_lexer": "ipython3",
   "version": "3.9.12"
  },
  "orig_nbformat": 4,
  "vscode": {
   "interpreter": {
    "hash": "4d2032d7104da15a9d10fd1a2c136158f111ee2ad9d0f9c669774920547ee53a"
   }
  }
 },
 "nbformat": 4,
 "nbformat_minor": 2
}
