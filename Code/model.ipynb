{
 "cells": [
  {
   "cell_type": "code",
   "execution_count": null,
   "metadata": {},
   "outputs": [],
   "source": [
    "import sys\n",
    "sys.path.append('..')"
   ]
  },
  {
   "cell_type": "code",
   "execution_count": null,
   "metadata": {},
   "outputs": [],
   "source": [
    "import pandas as pd\n",
    "import numpy as np\n",
    "from sklearn.ensemble import RandomForestClassifier\n",
    "from sklearn.naive_bayes import GaussianNB\n",
    "from sklearn.linear_model import LogisticRegression\n",
    "import Utils.dataframe as dataframe_helper\n",
    "import Utils.learning as learning\n",
    "import mlflow"
   ]
  },
  {
   "cell_type": "code",
   "execution_count": null,
   "metadata": {},
   "outputs": [],
   "source": [
    "experiment_name = \"Behavior & Context (Eng) Model\""
   ]
  },
  {
   "cell_type": "code",
   "execution_count": null,
   "metadata": {},
   "outputs": [],
   "source": [
    "pd.set_option('display.max_columns', None)\n",
    "mlflow.set_tracking_uri(\"../mlruns\")\n",
    "mlflow.set_experiment(experiment_name)"
   ]
  },
  {
   "cell_type": "code",
   "execution_count": null,
   "metadata": {},
   "outputs": [],
   "source": [
    "drop_columns = ['reviewID', \n",
    "                'reviewerID', \n",
    "                'restaurantID', \n",
    "                'date', \n",
    "                'name', \n",
    "                'location', \n",
    "                'yelpJoinDate',\n",
    "                'restaurantRating',\n",
    "                'usefulCount',\n",
    "                'coolCount',\n",
    "                'funnyCount',\n",
    "                'complimentCount',\n",
    "                'tipCount',\n",
    "                'fanCount'\n",
    "                ]"
   ]
  },
  {
   "cell_type": "markdown",
   "metadata": {},
   "source": [
    "## Make train dataset"
   ]
  },
  {
   "cell_type": "code",
   "execution_count": null,
   "metadata": {},
   "outputs": [],
   "source": [
    "raw = dataframe_helper.load_data()\n",
    "raw = dataframe_helper.data_cleaning(raw)\n",
    "raw.columns"
   ]
  },
  {
   "cell_type": "code",
   "execution_count": null,
   "metadata": {},
   "outputs": [],
   "source": [
    "raw"
   ]
  },
  {
   "cell_type": "code",
   "execution_count": null,
   "metadata": {},
   "outputs": [],
   "source": [
    "df = dataframe_helper.load_data()\n",
    "df = dataframe_helper.data_cleaning(df)\n",
    "# df.to_csv('../Data/clean_data.csv', index=False)\n",
    "# df = pd.read_csv('../Data/clean_data.csv')\n",
    "df = dataframe_helper.feature_engineering(df)\n"
   ]
  },
  {
   "cell_type": "code",
   "execution_count": null,
   "metadata": {},
   "outputs": [],
   "source": [
    "under_sampled_df = dataframe_helper.under_sampling(df=df.copy(), target='flagged')\n",
    "train_under_sampled_df = under_sampled_df.drop(drop_columns, axis=1)"
   ]
  },
  {
   "cell_type": "code",
   "execution_count": null,
   "metadata": {},
   "outputs": [],
   "source": [
    "over_sampled_df = dataframe_helper.over_sampling(df=df.copy(), target='flagged')\n",
    "train_over_sampled_df = over_sampled_df.drop(drop_columns, axis=1)"
   ]
  },
  {
   "cell_type": "code",
   "execution_count": null,
   "metadata": {},
   "outputs": [],
   "source": [
    "drop_columns"
   ]
  },
  {
   "cell_type": "code",
   "execution_count": null,
   "metadata": {},
   "outputs": [],
   "source": [
    "train_df = df.drop(drop_columns, axis=1)"
   ]
  },
  {
   "cell_type": "code",
   "execution_count": null,
   "metadata": {},
   "outputs": [],
   "source": [
    "df.columns"
   ]
  },
  {
   "cell_type": "code",
   "execution_count": null,
   "metadata": {},
   "outputs": [],
   "source": [
    "train_df.columns"
   ]
  },
  {
   "cell_type": "markdown",
   "metadata": {},
   "source": [
    "## Model"
   ]
  },
  {
   "cell_type": "code",
   "execution_count": null,
   "metadata": {},
   "outputs": [],
   "source": [
    "rf = RandomForestClassifier(random_state=42, criterion='entropy', max_depth=14, max_features='auto', n_estimators=500)\n",
    "lr = LogisticRegression(solver='liblinear', penalty ='l2' , C = 2.0)\n",
    "nb = GaussianNB()"
   ]
  },
  {
   "cell_type": "code",
   "execution_count": null,
   "metadata": {},
   "outputs": [],
   "source": [
    "learning.supervised_learning(train_df.copy(), model=rf, algorithm='Random Forest', drop_column='reviewContent', target_column='flagged')"
   ]
  },
  {
   "cell_type": "code",
   "execution_count": null,
   "metadata": {},
   "outputs": [],
   "source": [
    "learning.supervised_learning(train_df.copy(), model=nb, algorithm='Naive Bayes', drop_column='reviewContent', target_column='flagged')"
   ]
  },
  {
   "cell_type": "code",
   "execution_count": null,
   "metadata": {},
   "outputs": [],
   "source": [
    "learning.supervised_learning(train_df.copy(), model=lr, algorithm='Logistic Regression', drop_column='reviewContent', target_column='flagged')"
   ]
  },
  {
   "cell_type": "code",
   "execution_count": null,
   "metadata": {},
   "outputs": [],
   "source": [
    "learning.semi_supervised_learning(train_df.copy(), experiment_name, df_type='normal', model=rf, threshold=0.7, iterations=15, algorithm='Random Forest', target_column ='flagged', log=True)"
   ]
  },
  {
   "cell_type": "code",
   "execution_count": null,
   "metadata": {},
   "outputs": [],
   "source": [
    "learning.semi_supervised_learning(train_df.copy(), experiment_name, df_type='normal', model=nb, threshold=0.7, iterations=15, algorithm='Naive Bayes', target_column ='flagged', log=True)"
   ]
  },
  {
   "cell_type": "code",
   "execution_count": null,
   "metadata": {},
   "outputs": [],
   "source": [
    "learning.semi_supervised_learning(train_df.copy(), experiment_name, df_type='normal', model=lr, threshold=0.7, iterations=15, algorithm='Logistic Regression', target_column ='flagged', log=True)"
   ]
  },
  {
   "cell_type": "code",
   "execution_count": null,
   "metadata": {},
   "outputs": [],
   "source": [
    "learning.supervised_learning(train_under_sampled_df.copy(), model=rf, algorithm='Random Forest', drop_column='reviewContent', target_column='flagged')"
   ]
  },
  {
   "cell_type": "code",
   "execution_count": null,
   "metadata": {},
   "outputs": [],
   "source": [
    "learning.supervised_learning(train_under_sampled_df.copy(), model=nb, algorithm='Naive Bayes', drop_column='reviewContent', target_column='flagged')"
   ]
  },
  {
   "cell_type": "code",
   "execution_count": null,
   "metadata": {},
   "outputs": [],
   "source": [
    "learning.supervised_learning(train_under_sampled_df.copy(), model=lr, algorithm='Logistic Regression', drop_column='reviewContent', target_column='flagged')"
   ]
  },
  {
   "cell_type": "code",
   "execution_count": null,
   "metadata": {},
   "outputs": [],
   "source": [
    "learning.semi_supervised_learning(train_under_sampled_df.copy(), experiment_name, df_type='under_sampled', model=rf, threshold=0.7, iterations=15, algorithm='Random Forest', target_column ='flagged', log=True)"
   ]
  },
  {
   "cell_type": "code",
   "execution_count": null,
   "metadata": {},
   "outputs": [],
   "source": [
    "learning.semi_supervised_learning(train_under_sampled_df.copy(), experiment_name, df_type='under_sampled', model=nb, threshold=0.7, iterations=15, algorithm='Naive Bayes', target_column ='flagged', log=True)"
   ]
  },
  {
   "cell_type": "code",
   "execution_count": null,
   "metadata": {},
   "outputs": [],
   "source": [
    "learning.semi_supervised_learning(train_under_sampled_df.copy(), experiment_name, df_type='under_sampled', model=lr, threshold=0.7, iterations=15, algorithm='Logistic Regression', target_column ='flagged', log=True)"
   ]
  },
  {
   "cell_type": "code",
   "execution_count": null,
   "metadata": {},
   "outputs": [],
   "source": [
    "learning.supervised_learning(train_over_sampled_df.copy(), model=rf, algorithm='Random Forest', drop_column='reviewContent', target_column='flagged')"
   ]
  },
  {
   "cell_type": "code",
   "execution_count": null,
   "metadata": {},
   "outputs": [],
   "source": [
    "learning.supervised_learning(train_over_sampled_df.copy(), model=nb, algorithm='Naive Bayes', drop_column='reviewContent', target_column='flagged')"
   ]
  },
  {
   "cell_type": "code",
   "execution_count": null,
   "metadata": {},
   "outputs": [],
   "source": [
    "learning.supervised_learning(train_over_sampled_df.copy(), model=lr, algorithm='Logistic Regression', drop_column='reviewContent', target_column='flagged')"
   ]
  },
  {
   "cell_type": "code",
   "execution_count": null,
   "metadata": {},
   "outputs": [],
   "source": [
    "learning.semi_supervised_learning(train_over_sampled_df.copy(), experiment_name, df_type='over_sampled', model=rf, threshold=0.7, iterations=15, algorithm='Random Forest', target_column ='flagged', log=True)"
   ]
  },
  {
   "cell_type": "code",
   "execution_count": null,
   "metadata": {},
   "outputs": [],
   "source": [
    "learning.semi_supervised_learning(train_over_sampled_df.copy(), experiment_name, df_type='over_sampled', model=nb, threshold=0.7, iterations=15, algorithm='Naive Bayes', target_column ='flagged', log=True)"
   ]
  },
  {
   "cell_type": "code",
   "execution_count": null,
   "metadata": {},
   "outputs": [],
   "source": [
    "learning.semi_supervised_learning(train_over_sampled_df.copy(), experiment_name, df_type='over_sampled', model=lr, threshold=0.7, iterations=15, algorithm='Logistic Regression', target_column ='flagged', log=True)"
   ]
  }
 ],
 "metadata": {
  "kernelspec": {
   "display_name": "Python 3.9.12 64-bit",
   "language": "python",
   "name": "python3"
  },
  "language_info": {
   "codemirror_mode": {
    "name": "ipython",
    "version": 3
   },
   "file_extension": ".py",
   "mimetype": "text/x-python",
   "name": "python",
   "nbconvert_exporter": "python",
   "pygments_lexer": "ipython3",
   "version": "3.9.12"
  },
  "orig_nbformat": 4,
  "vscode": {
   "interpreter": {
    "hash": "4d2032d7104da15a9d10fd1a2c136158f111ee2ad9d0f9c669774920547ee53a"
   }
  }
 },
 "nbformat": 4,
 "nbformat_minor": 2
}
