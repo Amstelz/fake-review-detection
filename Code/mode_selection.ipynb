{
 "cells": [
  {
   "cell_type": "code",
   "execution_count": 1,
   "metadata": {},
   "outputs": [],
   "source": [
    "import sys\n",
    "sys.path.append('..')\n",
    "import warnings\n",
    "warnings.filterwarnings('ignore')"
   ]
  },
  {
   "cell_type": "code",
   "execution_count": 2,
   "metadata": {},
   "outputs": [],
   "source": [
    "import pandas as pd\n",
    "import numpy as np\n",
    "import re\n",
    "from sklearn.ensemble import RandomForestClassifier\n",
    "from sklearn.naive_bayes import GaussianNB\n",
    "from sklearn.linear_model import LogisticRegression\n",
    "from sklearn.feature_extraction.text import CountVectorizer\n",
    "from sklearn.feature_extraction.text import TfidfVectorizer\n",
    "from collections import Counter\n",
    "import Utils.dataframe as dataframe_helper\n",
    "import Utils.learning as learning\n",
    "import mlflow\n",
    "import spacy\n",
    "from sklearn.model_selection import train_test_split"
   ]
  },
  {
   "cell_type": "code",
   "execution_count": 3,
   "metadata": {},
   "outputs": [
    {
     "data": {
      "text/plain": [
       "<Experiment: artifact_location='../mlruns/746529752663207522', creation_time=1677145153271, experiment_id='746529752663207522', last_update_time=1677145153271, lifecycle_stage='active', name='Count By Word Model', tags={}>"
      ]
     },
     "execution_count": 3,
     "metadata": {},
     "output_type": "execute_result"
    }
   ],
   "source": [
    "experiment_name = \"Count By Word Model\"\n",
    "pd.set_option('display.max_columns', None)\n",
    "mlflow.set_tracking_uri(\"../mlruns\")\n",
    "mlflow.set_experiment(experiment_name)"
   ]
  },
  {
   "cell_type": "markdown",
   "metadata": {},
   "source": [
    "## Feature Engineering"
   ]
  },
  {
   "cell_type": "code",
   "execution_count": 4,
   "metadata": {},
   "outputs": [],
   "source": [
    "def feature_engineering_one_hot(df:pd.DataFrame, N:int = None) -> pd.DataFrame:\n",
    "    with open(\"../Data/top_word/top_fake_word.txt\", \"r\") as f:\n",
    "        fake_words = dataframe_helper.string_to_list(f.read())\n",
    "  \n",
    "    with open(\"../Data/top_word/top_genuine_word.txt\", \"r\") as f:\n",
    "        non_fake_words = dataframe_helper.string_to_list(f.read())\n",
    "\n",
    "    fake_words = fake_words[:N]\n",
    "    non_fake_words = non_fake_words[:N]\n",
    "        \n",
    "    # KL one hot encoding\n",
    "    fakeWordOneHot = []\n",
    "    nonFakeWordOneHot = []\n",
    "\n",
    "    for content in df['reviewContent']:\n",
    "        fakeOneHot = ''\n",
    "        nonFakeOneHot = ''\n",
    "        words = re.findall(r'\\b[A-Za-z][a-z]{2,9}\\b', content)\n",
    "\n",
    "        for word in fake_words:\n",
    "            if word in words:\n",
    "                fakeOneHot += '1'\n",
    "            else:\n",
    "                fakeOneHot += '0'\n",
    "\n",
    "        for word in non_fake_words:\n",
    "            if word in words:\n",
    "                nonFakeOneHot += '1'\n",
    "            else:\n",
    "                nonFakeOneHot += '0'\n",
    "                \n",
    "        fakeWordOneHot.append(fakeOneHot)\n",
    "        nonFakeWordOneHot.append(nonFakeOneHot)\n",
    "    \n",
    "    result = pd.DataFrame()\n",
    "    result['fakeWordsOneHot'] = fakeWordOneHot\n",
    "    result['nonFakeWordsOneHot'] = nonFakeWordOneHot\n",
    "\n",
    "    result = dataframe_helper.onehot(result, 'fakeWordsOneHot', fake_words, 'fake')\n",
    "    result = dataframe_helper.onehot(result, 'nonFakeWordsOneHot', non_fake_words, 'non fake')\n",
    "    \n",
    "    result['reviewContent'] = df['reviewContent']\n",
    "    result['flagged'] = df['flagged']\n",
    "\n",
    "    return result\n",
    "    "
   ]
  },
  {
   "cell_type": "code",
   "execution_count": 5,
   "metadata": {},
   "outputs": [],
   "source": [
    "def feature_engineering_one_hot_cvect(df:pd.DataFrame) -> pd.DataFrame:\n",
    "    with open(\"../Data/top_word/word_from_cVect.txt\", \"r\") as f:\n",
    "        bag_of_words = dataframe_helper.string_to_list(f.read())\n",
    "  \n",
    "    # KL one hot encoding\n",
    "    WordOneHot = []\n",
    "\n",
    "    for content in df['reviewContent']:\n",
    "        oneHot = ''\n",
    "        words = re.findall(r'\\b[A-Za-z][a-z]{2,9}\\b', content)\n",
    "\n",
    "        for word in bag_of_words:\n",
    "            if word in words:\n",
    "                oneHot += '1'\n",
    "            else:\n",
    "                oneHot += '0'\n",
    "                \n",
    "        WordOneHot.append(oneHot)\n",
    "    \n",
    "    result = pd.DataFrame()\n",
    "    result['WordsOneHot'] = WordOneHot\n",
    "\n",
    "    result = dataframe_helper.onehot(result, 'WordsOneHot', bag_of_words, '')\n",
    "    \n",
    "    result['reviewContent'] = df['reviewContent']\n",
    "    result['flagged'] = df['flagged']\n",
    "\n",
    "    return result"
   ]
  },
  {
   "cell_type": "code",
   "execution_count": 6,
   "metadata": {},
   "outputs": [],
   "source": [
    "def feature_engineering_word_count(df:pd.DataFrame, N:int = None) -> pd.DataFrame:\n",
    "    with open(\"../Data/top_word/top_fake_word.txt\", \"r\") as f:\n",
    "        fake_words = dataframe_helper.string_to_list(f.read())\n",
    "  \n",
    "    with open(\"../Data/top_word/top_genuine_word.txt\", \"r\") as f:\n",
    "        non_fake_words = dataframe_helper.string_to_list(f.read())\n",
    "\n",
    "    fake_words = fake_words[:N]\n",
    "    non_fake_words = non_fake_words[:N]\n",
    "        \n",
    "    # KL word count\n",
    "    fakeWordsCount = []\n",
    "    nonFakeWordsCount = []\n",
    "\n",
    "    for content in df['reviewContent']:\n",
    "        words = re.findall(r'\\b[A-Za-z][a-z]{2,9}\\b', content)\n",
    "        fakeCount = 0\n",
    "        nonFakeCount = 0\n",
    "        for word in words:\n",
    "            if word in fake_words:\n",
    "                fakeCount += 1\n",
    "            elif word in non_fake_words:\n",
    "                nonFakeCount += 1\n",
    "        fakeWordsCount.append(fakeCount)\n",
    "        nonFakeWordsCount.append(nonFakeCount)\n",
    "\n",
    "    result = pd.DataFrame()\n",
    "    result['fakeWordsCount'] = fakeWordsCount\n",
    "    result['nonFakeWordsCount'] = nonFakeWordsCount\n",
    "    result['reviewContent'] = df['reviewContent']\n",
    "    result['flagged'] = df['flagged']\n",
    "    \n",
    "    return result\n",
    "    "
   ]
  },
  {
   "cell_type": "code",
   "execution_count": 7,
   "metadata": {},
   "outputs": [],
   "source": [
    "def feature_engineering_count_by_word(df:pd.DataFrame, N:int = None) -> pd.DataFrame:\n",
    "    with open(\"../Data/top_word/top_fake_word.txt\", \"r\") as f:\n",
    "        fake_words = dataframe_helper.string_to_list(f.read())\n",
    "  \n",
    "    with open(\"../Data/top_word/top_genuine_word.txt\", \"r\") as f:\n",
    "        non_fake_words = dataframe_helper.string_to_list(f.read())\n",
    "\n",
    "    fake_words = fake_words[:N]\n",
    "    non_fake_words = non_fake_words[:N]\n",
    "        \n",
    "    # KL one hot encoding\n",
    "    fakeWordOneHot = []\n",
    "    nonFakeWordOneHot = []\n",
    "\n",
    "    for content in df['reviewContent']:\n",
    "        fakeOneHot = ''\n",
    "        nonFakeOneHot = ''\n",
    "        words = re.findall(r'\\b[A-Za-z][a-z]{2,9}\\b', content)\n",
    "        words = Counter(words)\n",
    "        for word in fake_words:\n",
    "            if word in words:\n",
    "                fakeOneHot += str(words[word])\n",
    "            else:\n",
    "                fakeOneHot += '0'\n",
    "\n",
    "        for word in non_fake_words:\n",
    "            if word in words:\n",
    "                nonFakeOneHot += str(words[word])\n",
    "            else:\n",
    "                nonFakeOneHot += '0'\n",
    "                \n",
    "        fakeWordOneHot.append(fakeOneHot)\n",
    "        nonFakeWordOneHot.append(nonFakeOneHot)\n",
    "    \n",
    "    result = pd.DataFrame()\n",
    "    result['fakeWordsOneHot'] = fakeWordOneHot\n",
    "    result['nonFakeWordsOneHot'] = nonFakeWordOneHot\n",
    "\n",
    "    result = dataframe_helper.onehot(result, 'fakeWordsOneHot', fake_words, 'fake')\n",
    "    result = dataframe_helper.onehot(result, 'nonFakeWordsOneHot', non_fake_words, 'non fake')\n",
    "    \n",
    "    result['reviewContent'] = df['reviewContent']\n",
    "    result['flagged'] = df['flagged']\n",
    "\n",
    "    return result\n",
    "    "
   ]
  },
  {
   "cell_type": "code",
   "execution_count": 8,
   "metadata": {},
   "outputs": [],
   "source": [
    "def preprocess_text(text):\n",
    "    text = text.lower()\n",
    "    text = re.sub(r'\\d+', '', text)\n",
    "    return text"
   ]
  },
  {
   "cell_type": "code",
   "execution_count": 9,
   "metadata": {},
   "outputs": [],
   "source": [
    "def feature_engineering_cVect(df:pd.DataFrame) -> pd.DataFrame:\n",
    "    cVect = CountVectorizer(stop_words='english', preprocessor=preprocess_text, token_pattern = '[a-zA-Z0-9]+')\n",
    "    # X_train, X_test, y_train, y_test = train_test_split(X, y, test_size=0.20, random_state=11)\n",
    "    # cVect = CountVectorizer()\n",
    "    cVect.fit(df['reviewContent'].iloc[:8*len(df)//10])\n",
    "    dtv = cVect.transform(df['reviewContent'])\n",
    "    dtv = dtv.toarray()\n",
    "    result =  pd.DataFrame(dtv, columns = [f'{colunm}' for colunm in cVect.get_feature_names()])\n",
    "    result['reviewContent'] = df['reviewContent']\n",
    "    result['flagged'] = df['flagged']\n",
    "    return result\n",
    "    "
   ]
  },
  {
   "cell_type": "code",
   "execution_count": 10,
   "metadata": {},
   "outputs": [],
   "source": [
    "def feature_engineering_tfidfVect(df:pd.DataFrame) -> pd.DataFrame:\n",
    "    tfidfVect = CountVectorizer(stop_words='english', preprocessor=preprocess_text, token_pattern = '[a-zA-Z0-9]+')\n",
    "    # X_train, X_test, y_train, y_test = train_test_split(X, y, test_size=0.20, random_state=11)\n",
    "    # tfidfVect = CountVectorizer()\n",
    "    tfidfVect.fit(df['reviewContent'].iloc[:8*len(df)//10])\n",
    "    dtv = tfidfVect.transform(df['reviewContent'])\n",
    "    dtv = dtv.toarray()\n",
    "    result =  pd.DataFrame(dtv, columns = [f'{colunm}' for colunm in tfidfVect.get_feature_names()])\n",
    "    result['reviewContent'] = df['reviewContent']\n",
    "    result['flagged'] = df['flagged']\n",
    "    return result"
   ]
  },
  {
   "cell_type": "code",
   "execution_count": 11,
   "metadata": {},
   "outputs": [],
   "source": [
    "def feature_engineering_combine(df:pd.DataFrame, N:int = None) -> pd.DataFrame:\n",
    "    nlp = spacy.load(\"en_core_web_sm\")\n",
    "\n",
    "    with open(\"../Data/top_word/top_fake_word.txt\", \"r\") as f:\n",
    "        fake_words = dataframe_helper.string_to_list(f.read())\n",
    "\n",
    "    with open(\"../Data/top_word/top_genuine_word.txt\", \"r\") as f:\n",
    "        non_fake_words = dataframe_helper.string_to_list(f.read())\n",
    "\n",
    "    fake_words = fake_words[:N]\n",
    "    non_fake_words = non_fake_words[:N]\n",
    "        \n",
    "    # KL one hot encoding\n",
    "    fakeWordOneHot = []\n",
    "    nonFakeWordOneHot = []\n",
    "\n",
    "    # linguistic features\n",
    "    number_of_words = []\n",
    "    number_of_verbs = []\n",
    "    number_of_clauses = []\n",
    "    average_word_length = []\n",
    "    pausality = []\n",
    "    number_of_passive_voice = []\n",
    "    number_of_self_and_group_reference_terms_used = []\n",
    "    expressiveness_ratio = []\n",
    "    lexical_diversity = []\n",
    "    content_word_diversity = []\n",
    "    typo_ratio = []\n",
    "    number_of_spatio_temporal_words = []\n",
    "    \n",
    "    for content in df['reviewContent']:\n",
    "        fakeOneHot = ''\n",
    "        nonFakeOneHot = ''\n",
    "        words = re.findall(r'\\b[A-Za-z][a-z]{2,9}\\b', content)\n",
    "\n",
    "        for word in fake_words:\n",
    "            if word in words:\n",
    "                fakeOneHot += '1'\n",
    "            else:\n",
    "                fakeOneHot += '0'\n",
    "\n",
    "        for word in non_fake_words:\n",
    "            if word in words:\n",
    "                nonFakeOneHot += '1'\n",
    "            else:\n",
    "                nonFakeOneHot += '0'\n",
    "                \n",
    "        fakeWordOneHot.append(fakeOneHot)\n",
    "        nonFakeWordOneHot.append(nonFakeOneHot)\n",
    "        \n",
    "        doc = nlp(content)\n",
    "        if len(doc) != 0:\n",
    "            number_of_words.append(len(doc))\n",
    "            number_of_verbs.append(len([token for token in doc if token.pos_ == \"VERB\"]))\n",
    "            number_of_clauses.append(len([token for token in doc if token.dep_ == \"ROOT\"]))\n",
    "            average_word_length.append(sum([len(token) for token in doc]) / len(doc))\n",
    "            pausality.append(len([token for token in doc if token.pos_ == \"PUNCT\"]) / len(doc))\n",
    "            number_of_passive_voice.append(len([token for token in doc if token.dep_ == \"nsubjpass\"]))\n",
    "            number_of_self_and_group_reference_terms_used.append(len([token for token in doc if token.dep_ == \"nsubj\"]))\n",
    "            expressiveness_ratio.append(len([token for token in doc if token.pos_ == \"ADJ\"]) / len(doc))\n",
    "            lexical_diversity.append(len(set([token.text for token in doc])) / len(doc))\n",
    "            content_word_diversity.append(len(set([token.text for token in doc if token.pos_ != \"PUNCT\"])) / len(doc))\n",
    "            typo_ratio.append(len([token for token in doc if token.pos_ == \"SYM\"]) / len(doc))\n",
    "            number_of_spatio_temporal_words.append(len([token for token in doc if token.pos_ == \"ADV\"]))\n",
    "        else:\n",
    "            number_of_words.append(0)\n",
    "            number_of_verbs.append(0)\n",
    "            number_of_clauses.append(0)\n",
    "            average_word_length.append(0)\n",
    "            pausality.append(0)\n",
    "            number_of_passive_voice.append(0)\n",
    "            number_of_self_and_group_reference_terms_used.append(0)\n",
    "            expressiveness_ratio.append(0)\n",
    "            lexical_diversity.append(0)\n",
    "            content_word_diversity.append(0)\n",
    "            typo_ratio.append(0)\n",
    "            number_of_spatio_temporal_words.append(0)\n",
    "\n",
    "    result = pd.DataFrame()\n",
    "    result['fakeWordsOneHot'] = fakeWordOneHot\n",
    "    result['nonFakeWordsOneHot'] = nonFakeWordOneHot\n",
    "    result = dataframe_helper.onehot(result, 'fakeWordsOneHot', fake_words, 'fake')\n",
    "    result = dataframe_helper.onehot(result, 'nonFakeWordsOneHot', non_fake_words, 'non fake')\n",
    "    result['number_of_words'] = number_of_words\n",
    "    result['number_of_verbs'] = number_of_verbs\n",
    "    result['number_of_clauses'] = number_of_clauses\n",
    "    result['average_word_length'] = average_word_length\n",
    "    result['pausality'] = pausality\n",
    "    result['number_of_passive_voice'] = number_of_passive_voice\n",
    "    result['number_of_self_and_group_reference_terms_used'] = number_of_self_and_group_reference_terms_used\n",
    "    result['expressiveness_ratio'] = expressiveness_ratio\n",
    "    result['lexical_diversity'] = lexical_diversity\n",
    "    result['content_word_diversity'] = content_word_diversity\n",
    "    result['typo_ratio'] = typo_ratio\n",
    "    result['number_of_spatio_temporal_words'] = number_of_spatio_temporal_words  \n",
    "\n",
    "    result['reviewContent'] = df['reviewContent']\n",
    "    result['flagged'] = df['flagged']\n",
    "\n",
    "    return result\n",
    "    "
   ]
  },
  {
   "cell_type": "code",
   "execution_count": 12,
   "metadata": {},
   "outputs": [],
   "source": [
    "def feature_engineering_linguistic(df:pd.DataFrame) -> pd.DataFrame:\n",
    "    nlp = spacy.load(\"en_core_web_sm\")\n",
    "    \n",
    "    number_of_words = []\n",
    "    number_of_verbs = []\n",
    "    number_of_clauses = []\n",
    "    average_word_length = []\n",
    "    pausality = []\n",
    "    number_of_passive_voice = []\n",
    "    number_of_self_and_group_reference_terms_used = []\n",
    "    expressiveness_ratio = []\n",
    "    lexical_diversity = []\n",
    "    content_word_diversity = []\n",
    "    typo_ratio = []\n",
    "    number_of_spatio_temporal_words = []\n",
    "    \n",
    "    for content in df['reviewContent']:\n",
    "        doc = nlp(content)\n",
    "        if len(doc) != 0:\n",
    "            number_of_words.append(len(doc))\n",
    "            number_of_verbs.append(len([token for token in doc if token.pos_ == \"VERB\"]))\n",
    "            number_of_clauses.append(len([token for token in doc if token.dep_ == \"ROOT\"]))\n",
    "            average_word_length.append(sum([len(token) for token in doc]) / len(doc))\n",
    "            pausality.append(len([token for token in doc if token.pos_ == \"PUNCT\"]) / len(doc))\n",
    "            number_of_passive_voice.append(len([token for token in doc if token.dep_ == \"nsubjpass\"]))\n",
    "            number_of_self_and_group_reference_terms_used.append(len([token for token in doc if token.dep_ == \"nsubj\"]))\n",
    "            expressiveness_ratio.append(len([token for token in doc if token.pos_ == \"ADJ\"]) / len(doc))\n",
    "            lexical_diversity.append(len(set([token.text for token in doc])) / len(doc))\n",
    "            content_word_diversity.append(len(set([token.text for token in doc if token.pos_ != \"PUNCT\"])) / len(doc))\n",
    "            typo_ratio.append(len([token for token in doc if token.pos_ == \"SYM\"]) / len(doc))\n",
    "            number_of_spatio_temporal_words.append(len([token for token in doc if token.pos_ == \"ADV\"]))\n",
    "        else:\n",
    "            number_of_words.append(0)\n",
    "            number_of_verbs.append(0)\n",
    "            number_of_clauses.append(0)\n",
    "            average_word_length.append(0)\n",
    "            pausality.append(0)\n",
    "            number_of_passive_voice.append(0)\n",
    "            number_of_self_and_group_reference_terms_used.append(0)\n",
    "            expressiveness_ratio.append(0)\n",
    "            lexical_diversity.append(0)\n",
    "            content_word_diversity.append(0)\n",
    "            typo_ratio.append(0)\n",
    "            number_of_spatio_temporal_words.append(0)\n",
    "\n",
    "    result = pd.DataFrame()\n",
    "    result['number_of_words'] = number_of_words\n",
    "    result['number_of_verbs'] = number_of_verbs\n",
    "    result['number_of_clauses'] = number_of_clauses\n",
    "    result['average_word_length'] = average_word_length\n",
    "    result['pausality'] = pausality\n",
    "    result['number_of_passive_voice'] = number_of_passive_voice\n",
    "    result['number_of_self_and_group_reference_terms_used'] = number_of_self_and_group_reference_terms_used\n",
    "    result['expressiveness_ratio'] = expressiveness_ratio\n",
    "    result['lexical_diversity'] = lexical_diversity\n",
    "    result['content_word_diversity'] = content_word_diversity\n",
    "    result['typo_ratio'] = typo_ratio\n",
    "    result['number_of_spatio_temporal_words'] = number_of_spatio_temporal_words  \n",
    "    result['reviewContent'] = df['reviewContent']\n",
    "    result['flagged'] = df['flagged']\n",
    "\n",
    "    return result\n",
    "    "
   ]
  },
  {
   "cell_type": "markdown",
   "metadata": {},
   "source": [
    "## Make train dataset"
   ]
  },
  {
   "cell_type": "code",
   "execution_count": 13,
   "metadata": {},
   "outputs": [],
   "source": [
    "df = dataframe_helper.load_data()\n",
    "df = dataframe_helper.data_cleaning(df)\n",
    "# df = feature_engineering_one_hot_cvect(df)\n",
    "# df = feature_engineering_cVect(df)\n",
    "# df = feature_engineering_one_hot(df)\n",
    "# df = feature_engineering_word_count(df)\n",
    "# df = feature_engineering_count_by_word(df,50)\n",
    "# df = feature_engineering_linguistic(df)\n",
    "# df = feature_engineering_combine(df)"
   ]
  },
  {
   "cell_type": "code",
   "execution_count": 14,
   "metadata": {},
   "outputs": [],
   "source": [
    "# over_sampling_df = dataframe_helper.over_sampling(df=df, target='flagged')\n",
    "# under_sampling_df = dataframe_helper.under_sampling(df=df, target='flagged')"
   ]
  },
  {
   "cell_type": "code",
   "execution_count": 15,
   "metadata": {},
   "outputs": [
    {
     "name": "stdout",
     "output_type": "stream",
     "text": [
      "Over-Sampling Data\n",
      "Over-Sampling Complete\n"
     ]
    }
   ],
   "source": [
    "over_sampling_df = dataframe_helper.over_sampling(df=df, target='flagged')\n",
    "over_sampling_df = feature_engineering_cVect(over_sampling_df)\n",
    "flagged = over_sampling_df['flagged'] \n",
    "reviewContent = over_sampling_df['reviewContent']\n",
    "over_sampling_df = over_sampling_df.drop(['reviewContent', 'flagged'], axis=1)\n",
    "over_sampling_df = over_sampling_df.astype(int)\n",
    "over_sampling_df = over_sampling_df.apply(lambda x: x/x)\n",
    "over_sampling_df = over_sampling_df.fillna(0)\n",
    "over_sampling_df['flagged'] = flagged\n",
    "over_sampling_df['reviewContent'] = reviewContent\n",
    "\n",
    "# under_sampling_df = dataframe_helper.under_sampling(df=df, target='flagged')\n",
    "# under_sampling_df = feature_engineering_cVect(under_sampling_df)\n",
    "# flagged = under_sampling_df['flagged'] \n",
    "# reviewContent = under_sampling_df['reviewContent']\n",
    "# under_sampling_df = under_sampling_df.drop(['reviewContent', 'flagged'], axis=1)\n",
    "# under_sampling_df = under_sampling_df.astype(int)\n",
    "# under_sampling_df = under_sampling_df.apply(lambda x: x/x)\n",
    "# under_sampling_df = under_sampling_df.fillna(0)\n",
    "# under_sampling_df['flagged'] = flagged\n",
    "# under_sampling_df['reviewContent'] = reviewContent"
   ]
  },
  {
   "cell_type": "code",
   "execution_count": null,
   "metadata": {},
   "outputs": [],
   "source": [
    "over_sampling_df"
   ]
  },
  {
   "attachments": {},
   "cell_type": "markdown",
   "metadata": {},
   "source": [
    "# Model "
   ]
  },
  {
   "cell_type": "code",
   "execution_count": 16,
   "metadata": {},
   "outputs": [],
   "source": [
    "rf = RandomForestClassifier(random_state=42, criterion='entropy', max_depth=14, max_features='auto', n_estimators=500)\n",
    "lr = LogisticRegression(solver='liblinear', penalty ='l2' , C = 2.0)\n",
    "nb = GaussianNB()"
   ]
  },
  {
   "cell_type": "code",
   "execution_count": null,
   "metadata": {},
   "outputs": [],
   "source": [
    "learning.supervised_learning(over_sampling_df.copy(), model=rf, algorithm='Random Forest', drop_column='reviewContent', target_column='flagged')"
   ]
  },
  {
   "cell_type": "code",
   "execution_count": null,
   "metadata": {},
   "outputs": [],
   "source": [
    "learning.supervised_learning(over_sampling_df.copy(), model=nb, algorithm='Naive Bayes', drop_column='reviewContent', target_column='flagged')"
   ]
  },
  {
   "cell_type": "code",
   "execution_count": 17,
   "metadata": {},
   "outputs": [
    {
     "name": "stdout",
     "output_type": "stream",
     "text": [
      "Training Logistic Regression Model\n",
      "Logistic Regression Model Results\n",
      "----------------------------------------\n",
      "Accuracy Score : 0.8275828835774865\n",
      "Precision Score : 0.7732288501519271\n",
      "Recall Score : 0.928736073761045\n",
      "F1 Score : 0.8438781743607645\n",
      "Confusion Matrix : \n",
      "[[3752 1418]\n",
      " [ 371 4835]]\n"
     ]
    },
    {
     "data": {
      "image/png": "[encoded data removed]",
      "text/plain": [
       "<Figure size 432x288 with 2 Axes>"
      ]
     },
     "metadata": {
      "needs_background": "light"
     },
     "output_type": "display_data"
    }
   ],
   "source": [
    "learning.supervised_learning(over_sampling_df.copy(), model=lr, algorithm='Logistic Regression', drop_column='reviewContent', target_column='flagged')"
   ]
  },
  {
   "cell_type": "code",
   "execution_count": null,
   "metadata": {},
   "outputs": [],
   "source": [
    "learning.semi_supervised_learning(over_sampling_df.copy(), experiment_name, df_type='over_sampled', model=rf, threshold=0.7, iterations=7, algorithm='Random Forest', target_column='flagged')"
   ]
  },
  {
   "cell_type": "code",
   "execution_count": null,
   "metadata": {},
   "outputs": [],
   "source": [
    "learning.semi_supervised_learning(over_sampling_df.copy(), experiment_name, df_type='over_sampled', model=nb, threshold=0.7, iterations=7, algorithm='Naive Bayes', target_column='flagged')"
   ]
  },
  {
   "cell_type": "code",
   "execution_count": null,
   "metadata": {},
   "outputs": [],
   "source": [
    "learning.semi_supervised_learning(over_sampling_df.copy(), experiment_name, df_type='over_sampled', model=lr, threshold=0.7, iterations=7, algorithm='Logistic Regression', target_column='flagged')"
   ]
  },
  {
   "cell_type": "code",
   "execution_count": null,
   "metadata": {},
   "outputs": [],
   "source": [
    "learning.supervised_learning(under_sampling_df.copy(), model=rf, algorithm='Random Forest', drop_column='reviewContent', target_column='flagged')"
   ]
  },
  {
   "cell_type": "code",
   "execution_count": null,
   "metadata": {},
   "outputs": [],
   "source": [
    "learning.supervised_learning(under_sampling_df.copy(), model=nb, algorithm='Naive Bayes', drop_column='reviewContent', target_column='flagged')"
   ]
  },
  {
   "cell_type": "code",
   "execution_count": null,
   "metadata": {},
   "outputs": [],
   "source": [
    "learning.supervised_learning(under_sampling_df.copy() , model=lr, algorithm='Logistic Regression', drop_column='reviewContent', target_column='flagged')"
   ]
  },
  {
   "cell_type": "code",
   "execution_count": null,
   "metadata": {},
   "outputs": [],
   "source": [
    "learning.semi_supervised_learning(under_sampling_df.copy(), experiment_name, df_type='over_sampled', model=rf, threshold=0.7, iterations=7, algorithm='Random Forest', target_column='flagged')"
   ]
  },
  {
   "cell_type": "code",
   "execution_count": null,
   "metadata": {},
   "outputs": [],
   "source": [
    "learning.semi_supervised_learning(under_sampling_df.copy(), experiment_name, df_type='over_sampled', model=nb, threshold=0.7, iterations=7, algorithm='Naive Bayes', target_column='flagged')"
   ]
  },
  {
   "cell_type": "code",
   "execution_count": null,
   "metadata": {},
   "outputs": [],
   "source": [
    "learning.semi_supervised_learning(under_sampling_df.copy(), experiment_name, df_type='over_sampled', model=lr, threshold=0.7, iterations=7, algorithm='Logistic Regression', target_column='flagged')"
   ]
  }
 ],
 "metadata": {
  "kernelspec": {
   "display_name": "Python 3.9.12 64-bit",
   "language": "python",
   "name": "python3"
  },
  "language_info": {
   "codemirror_mode": {
    "name": "ipython",
    "version": 3
   },
   "file_extension": ".py",
   "mimetype": "text/x-python",
   "name": "python",
   "nbconvert_exporter": "python",
   "pygments_lexer": "ipython3",
   "version": "3.9.12"
  },
  "orig_nbformat": 4,
  "vscode": {
   "interpreter": {
    "hash": "4d2032d7104da15a9d10fd1a2c136158f111ee2ad9d0f9c669774920547ee53a"
   }
  }
 },
 "nbformat": 4,
 "nbformat_minor": 2
}
