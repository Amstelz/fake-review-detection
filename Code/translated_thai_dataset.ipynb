{
 "cells": [
  {
   "cell_type": "code",
   "execution_count": 1,
   "metadata": {},
   "outputs": [],
   "source": [
    "import pandas as pd \n",
    "import numpy as np"
   ]
  },
  {
   "cell_type": "code",
   "execution_count": 2,
   "metadata": {},
   "outputs": [],
   "source": [
    "from googletrans import Translator\n",
    "import time"
   ]
  },
  {
   "cell_type": "code",
   "execution_count": 3,
   "metadata": {},
   "outputs": [],
   "source": [
    "translator = Translator(service_urls=[\n",
    "      'translate.google.co.th'\n",
    "    ])"
   ]
  },
  {
   "cell_type": "code",
   "execution_count": 4,
   "metadata": {},
   "outputs": [],
   "source": [
    "df = pd.read_csv('../Data/data.csv')"
   ]
  },
  {
   "cell_type": "code",
   "execution_count": 5,
   "metadata": {},
   "outputs": [
    {
     "data": {
      "text/plain": [
       "Index(['reviewContent'], dtype='object')"
      ]
     },
     "execution_count": 5,
     "metadata": {},
     "output_type": "execute_result"
    }
   ],
   "source": [
    "df.columns"
   ]
  },
  {
   "cell_type": "code",
   "execution_count": 6,
   "metadata": {},
   "outputs": [
    {
     "data": {
      "text/plain": [
       "0        Unlike Next, which we'd eaten at the previous ...\n",
       "1        Probably one of the best meals I've had ever. ...\n",
       "2        Service was impeccable. Experience and present...\n",
       "3        The problem with places like this, given the e...\n",
       "4        I have no idea how to write my review - dining...\n",
       "                               ...                        \n",
       "26953    It's Taco Bell, with higher prices, but it's T...\n",
       "26954    Yellow Rose is a favorite of mine. I'd go ther...\n",
       "26955    Not bad. We ate there because the odd wicker s...\n",
       "26956    We were surprised to have been eagerly roped i...\n",
       "26957    A gorgeous shy young teen asked the owner if s...\n",
       "Name: reviewContent, Length: 26958, dtype: object"
      ]
     },
     "execution_count": 6,
     "metadata": {},
     "output_type": "execute_result"
    }
   ],
   "source": [
    "df['reviewContent']"
   ]
  },
  {
   "cell_type": "code",
   "execution_count": 7,
   "metadata": {},
   "outputs": [],
   "source": [
    "translated = []"
   ]
  },
  {
   "cell_type": "code",
   "execution_count": 8,
   "metadata": {},
   "outputs": [],
   "source": [
    "for i,eng_text in enumerate(df['reviewContent'][:31]):\n",
    "    try:\n",
    "        translated.append(translator.translate(eng_text, dest='th').text)\n",
    "    except: \n",
    "        translated.append('')\n",
    "    "
   ]
  },
  {
   "cell_type": "code",
   "execution_count": 12,
   "metadata": {},
   "outputs": [
    {
     "data": {
      "text/plain": [
       "31"
      ]
     },
     "execution_count": 12,
     "metadata": {},
     "output_type": "execute_result"
    }
   ],
   "source": [
    "len(df['reviewContent'][:31])"
   ]
  },
  {
   "cell_type": "code",
   "execution_count": 11,
   "metadata": {},
   "outputs": [
    {
     "data": {
      "text/plain": [
       "31"
      ]
     },
     "execution_count": 11,
     "metadata": {},
     "output_type": "execute_result"
    }
   ],
   "source": [
    "len(translated)"
   ]
  },
  {
   "cell_type": "code",
   "execution_count": 17,
   "metadata": {},
   "outputs": [
    {
     "data": {
      "text/plain": [
       "'The best restaurant I have ever been to, hands down. Well above even the French Laundry.'"
      ]
     },
     "execution_count": 17,
     "metadata": {},
     "output_type": "execute_result"
    }
   ],
   "source": [
    "df['reviewContent'][20]"
   ]
  },
  {
   "cell_type": "code",
   "execution_count": 15,
   "metadata": {},
   "outputs": [
    {
     "data": {
      "text/plain": [
       "'ก่อนอื่นให้ฉันเริ่มต้นด้วยการบอกว่าฉันใช้เวลาสองปี (ที่ 20 a paycheck- วิธีที่ฉันชอบในการประหยัดประสบการณ์ร้านอาหาร) เพื่อประหยัดสำหรับการเดินทางไป Alinea ทุกครั้งที่ฉันพบว่าร้านอาหารที่ดีที่สุดในสหรัฐอเมริกาอยู่ในเมืองโปรดของฉันฉันรู้ว่าฉันต้องไป นี่เป็นร้านอาหารมิชลินที่สามของฉัน แต่สามดาวแรกของฉันและมันก็ไม่ทำให้ผิดหวัง ฉันพบว่าการจองการจองผ่านระบบการจองตั๋วนั้นค่อนข้างง่ายและหวังว่าจะได้ร้านอาหารอื่น ๆ ของการเปลี่ยนความสามารถนี้เป็นวิธีนี้ในอนาคต คืนของฉันที่ Alinea นั้นสมบูรณ์แบบตั้งแต่วินาทีที่มันเริ่มจากสุภาพบุรุษช่วยฉันออกจากห้องโดยสารของฉันในไม่กี่นาทีที่ฉันต้องใช้เวลาดูงานครัวและแน่นอนว่าอาหารและบริการ ฉันจะไม่เขียนรีวิวอธิบายอาหาร แต่ฉันสนุกกับทุกหลักสูตร มีบางอย่างที่ฉันชอบมากกว่าคนอื่น แต่ไม่มีอะไรเลวร้ายหรือใกล้เคียงกับไม่ดี ฉันเห็นด้วยกับผู้ตรวจสอบคนอื่น ๆ ว่าสำหรับหลายหลักสูตรที่ฉันต้องการมากกว่าหนึ่งกัดแม้ว่าฉันจะเต็มในตอนท้ายของมื้ออาหาร แฟนของฉันและฉันมีการจับคู่ไวน์กับอาหารเย็นและนั่นเป็นสิ่งเดียวที่ฉันเสียใจ พวกเราทั้งคู่ไม่ได้เป็นคนไวน์ขนาดใหญ่ดังนั้นมันจึงเป็นไวน์ที่มากเกินไปสำหรับฉัน ถ้าฉันจะไปอีกครั้งฉันอาจจะทำขวดเพื่อแบ่งปันแทนหรือลองแว่นตาจากการจับคู่สองสามครั้ง (ถ้าพวกเขาทำอย่างนั้นฉันก็ไม่ได้ถาม) ฉันไม่ได้รักการจับคู่ทั้งหมด 10 ครั้ง แต่มีความสุข 9 ใน 10 ส่วนที่ฉันโปรดปรานของ Alinea นอกเหนือจากอาหารแน่นอนได้ชื่นชมชิ้นส่วนที่สวยงามทั้งหมดที่สร้างขึ้นเพื่อเสิร์ฟอาหารที่ร้านอาหารนี้ Minds ที่ยอดเยี่ยมสร้างสถานที่แห่งนี้และทุกอย่างเกี่ยวกับการออกแบบนั้นสมบูรณ์แบบลงไปถึงรายละเอียดที่เล็กที่สุด ฉันพบว่าบริการนั้นยอดเยี่ยมสำหรับโต๊ะของฉันและหลักสูตรทั้งหมดได้รับการอธิบายอย่างดี นอกจากนี้เรายังสนุกกับการถามคำถามของพนักงานและพวกเขามีเรื่องราวที่สนุกสนานและเสียงหัวเราะที่ยอดเยี่ยมซึ่งเพิ่มเข้าไปในมื้ออาหารของเรา ฉันน่าจะไม่กลับไปที่ Alinea แต่เพียงเพราะมันเป็นค่าใช้จ่ายที่ต้องห้ามสำหรับฉัน หากคุณมีโอกาสได้สัมผัสกับ Alinea ฉันจะทำการเดินทาง- มันเป็นช่วงเย็นครั้งหนึ่งในชีวิตสำหรับฉัน'"
      ]
     },
     "execution_count": 15,
     "metadata": {},
     "output_type": "execute_result"
    }
   ],
   "source": [
    "translated[21]"
   ]
  },
  {
   "cell_type": "code",
   "execution_count": null,
   "metadata": {},
   "outputs": [],
   "source": [
    "translated = np.append(translated, df['translated'].values)"
   ]
  },
  {
   "cell_type": "code",
   "execution_count": 10,
   "metadata": {},
   "outputs": [],
   "source": [
    "# for i,eng_text in enumerate(df['reviewContent']):\n",
    "#     if (i+1) % 3000 == 0:\n",
    "#         print((i+1)//3000)\n",
    "#         time.sleep(3)\n",
    "#     try:\n",
    "#         translated.append(translator.translate(eng_text, dest='th').text)\n",
    "#     except: \n",
    "#         translated.append('')\n",
    "#     if (i+1) % 3000 == 0 or (i+1) == 26958:\n",
    "#         dict = {'translated': translated}  \n",
    "#         df = pd.DataFrame(dict) \n",
    "#         file_name = f'translated_{(i+1)//3000}' if (i+1) != 26958 else 'translated_9'\n",
    "#         df.to_csv(f'../Data/{file_name}.csv') \n",
    "#         translated = []\n",
    "    "
   ]
  }
 ],
 "metadata": {
  "kernelspec": {
   "display_name": "Python 3.9.12 64-bit",
   "language": "python",
   "name": "python3"
  },
  "language_info": {
   "codemirror_mode": {
    "name": "ipython",
    "version": 3
   },
   "file_extension": ".py",
   "mimetype": "text/x-python",
   "name": "python",
   "nbconvert_exporter": "python",
   "pygments_lexer": "ipython3",
   "version": "3.9.12"
  },
  "orig_nbformat": 4,
  "vscode": {
   "interpreter": {
    "hash": "4d2032d7104da15a9d10fd1a2c136158f111ee2ad9d0f9c669774920547ee53a"
   }
  }
 },
 "nbformat": 4,
 "nbformat_minor": 2
}
