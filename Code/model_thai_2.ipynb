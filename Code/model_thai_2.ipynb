{
 "cells": [
  {
   "cell_type": "code",
   "execution_count": 1,
   "metadata": {},
   "outputs": [],
   "source": [
    "import pandas as pd\n",
    "from nltk.corpus import stopwords\n",
    "from nltk.tokenize import RegexpTokenizer\n",
    "from datetime import datetime\n",
    "import numpy as np\n",
    "from sklearn.ensemble import RandomForestClassifier\n",
    "from sklearn.feature_extraction.text import TfidfVectorizer\n",
    "from sklearn.model_selection import train_test_split\n",
    "from sklearn.naive_bayes import GaussianNB\n",
    "from sklearn.metrics import accuracy_score, recall_score, precision_score, f1_score, pairwise_distances\n",
    "from sklearn.metrics import confusion_matrix\n",
    "from collections import OrderedDict\n",
    "from sklearn.model_selection import GridSearchCV\n",
    "import matplotlib.pyplot as plt\n",
    "import seaborn as sns\n",
    "from tqdm import tqdm\n",
    "from pythainlp.tokenize import word_tokenize\n"
   ]
  },
  {
   "cell_type": "code",
   "execution_count": 2,
   "metadata": {},
   "outputs": [],
   "source": [
    "pd.set_option('display.max_columns', None)\n",
    "pd.set_option('display.max_colwidth', None)"
   ]
  },
  {
   "cell_type": "markdown",
   "metadata": {},
   "source": [
    "## Cleaning data"
   ]
  },
  {
   "cell_type": "code",
   "execution_count": 3,
   "metadata": {},
   "outputs": [],
   "source": [
    "def data_cleaning(df):\n",
    "    # Removing \\n from date field\n",
    "    for i in range(len(df['date'])):\n",
    "        if df['date'][i][0] == '\\n':\n",
    "            df['date'][i] = df['date'][i][1:]\n",
    "\n",
    "    # Making yelpJoinDate Format Uniform\n",
    "    df['yelpJoinDate'] = df['yelpJoinDate'].apply(\n",
    "        lambda x: datetime.strftime(datetime.strptime(x, '%B %Y'), '01/%m/%Y'))\n",
    "\n",
    "    # Pre-processing Text Reviews\n",
    "    # Remove Symbols\n",
    "    df['reviewContent'] = df['reviewContent'].apply(\n",
    "        lambda x: ''.join(char for char in str(x) if char not in '!\"#$&\\'()*.:;<=>?@[\\\\]^_`{|}~'))\n",
    "\n",
    "    return df"
   ]
  },
  {
   "cell_type": "markdown",
   "metadata": {},
   "source": [
    "## Feature Engineering"
   ]
  },
  {
   "cell_type": "code",
   "execution_count": 4,
   "metadata": {},
   "outputs": [],
   "source": [
    "def feature_engineering(df):\n",
    "    mnr_df1 = df[['reviewerID', 'date']].copy()\n",
    "    mnr_df2 = mnr_df1.groupby(by=['date', 'reviewerID']).size().reset_index(name='reviewPerDay')\n",
    "    mnr_df2['scaledReviewPerDay'] = mnr_df2['reviewPerDay'] / mnr_df2['reviewPerDay'].max()\n",
    "    mnr_df2.drop(columns=['reviewPerDay'], inplace=True)\n",
    "    df = df.merge(mnr_df2, on=['reviewerID', 'date'], how='inner')\n",
    "\n",
    "    # Review Length\n",
    "    df['reviewsLength'] = df['reviewContent'].apply(\n",
    "        lambda x: len(word_tokenize(x, engine=\"newmm\")))\n",
    "\n",
    "    # Review Deviation\n",
    "    df['reviewsDeviation'] = abs(df['rating'] - df['restaurantRating']) / 4\n",
    "\n",
    "    # Maximum cosine similarity\n",
    "    review_data = df\n",
    "\n",
    "    res = OrderedDict()\n",
    "\n",
    "    # Iterate over data and create groups of reviewers\n",
    "    for row in review_data.iterrows():\n",
    "        if row[1].reviewerID in res:\n",
    "            res[row[1].reviewerID].append(row[1].reviewContent)\n",
    "        else:\n",
    "            res[row[1].reviewerID] = [row[1].reviewContent]\n",
    "\n",
    "    individual_reviewer = [{'reviewerID': k, 'reviewContent': v} for k, v in res.items()]\n",
    "    df2 = dict()\n",
    "    df2['reviewerID'] = pd.Series([])\n",
    "    df2['maximumContentSimilarity'] = pd.Series([])\n",
    "    vector = TfidfVectorizer(min_df=0)\n",
    "    count = -1\n",
    "    for reviewer_data in individual_reviewer:\n",
    "        count = count + 1\n",
    "        # Handle Null/single review gracefully -24-Apr-2019\n",
    "        try:\n",
    "            tfidf = vector.fit_transform(reviewer_data['reviewContent'])\n",
    "        except:\n",
    "            pass\n",
    "        cosine = 1 - pairwise_distances(tfidf, metric='cosine')\n",
    "\n",
    "        np.fill_diagonal(cosine, -np.inf)\n",
    "        max = cosine.max()\n",
    "\n",
    "        # To handle reviewier with just 1 review\n",
    "        if max == -np.inf:\n",
    "            max = 0\n",
    "        df2['reviewerID'][count] = reviewer_data['reviewerID']\n",
    "        df2['maximumContentSimilarity'][count] = max\n",
    "\n",
    "    df3 = pd.DataFrame(df2, columns=['reviewerID', 'maximumContentSimilarity'])\n",
    "\n",
    "    # left outer join on original datamatrix and cosine dataframe -24-Apr-2019\n",
    "    df = pd.merge(review_data, df3, on=\"reviewerID\", how=\"left\")\n",
    "\n",
    "    df.drop(index=np.where(pd.isnull(df))[0], axis=0, inplace=True)\n",
    "    return df"
   ]
  },
  {
   "cell_type": "markdown",
   "metadata": {},
   "source": [
    "## Sampling"
   ]
  },
  {
   "cell_type": "code",
   "execution_count": 5,
   "metadata": {},
   "outputs": [],
   "source": [
    "def under_sampling(df):\n",
    "    print(\"Under-Sampling Data\")\n",
    "\n",
    "    sample_size = len(df[(df['flagged'] == 'Y')])\n",
    "\n",
    "    authentic_reviews_df = df[df['flagged'] == 'N']\n",
    "    fake_reviews_df = df[df['flagged'] == 'Y']\n",
    "\n",
    "    authentic_reviews_us_df = authentic_reviews_df.sample(sample_size)\n",
    "    under_sampled_df = pd.concat([authentic_reviews_us_df, fake_reviews_df], axis=0)\n",
    "\n",
    "    print(\"Under-Sampling Complete\")\n",
    "    return under_sampled_df"
   ]
  },
  {
   "cell_type": "code",
   "execution_count": 6,
   "metadata": {},
   "outputs": [],
   "source": [
    "def over_sampling(df):\n",
    "    print(\"Over-Sampling Data\")\n",
    "\n",
    "    sample_size = len(df[(df['flagged'] == 'N')])\n",
    "\n",
    "    authentic_reviews_df = df[df['flagged'] == 'N']\n",
    "    fake_reviews_df = df[df['flagged'] == 'Y']\n",
    "\n",
    "    fake_reviews_os_df = fake_reviews_df.sample(sample_size, replace=True)\n",
    "    over_sampled_df = pd.concat([authentic_reviews_df, fake_reviews_os_df], axis=0)\n",
    "\n",
    "    print(\"Over-Sampling Complete\")\n",
    "    return over_sampled_df"
   ]
  },
  {
   "cell_type": "markdown",
   "metadata": {},
   "source": [
    "## Plot"
   ]
  },
  {
   "cell_type": "code",
   "execution_count": 7,
   "metadata": {},
   "outputs": [],
   "source": [
    "def plot_confusion_matrix(y_true, y_pred, classes, title=None, cmap=plt.cm.Blues):\n",
    "    # Compute confusion matrix\n",
    "    cm = confusion_matrix(y_true, y_pred)\n",
    "    # Only use the labels that appear in the data\n",
    "\n",
    "    fig, ax = plt.subplots()\n",
    "    im = ax.imshow(cm, interpolation='nearest', cmap=cmap)\n",
    "    ax.figure.colorbar(im, ax=ax)\n",
    "    # We want to show all ticks...\n",
    "    ax.set(xticks=np.arange(cm.shape[1]),\n",
    "           yticks=np.arange(cm.shape[0]),\n",
    "           xticklabels=classes,\n",
    "           yticklabels=classes,\n",
    "           title=title,\n",
    "           ylabel='True label',\n",
    "           xlabel='Predicted label')\n",
    "\n",
    "    # Rotate the tick labels and set their alignment.\n",
    "    plt.setp(ax.get_xticklabels(), rotation=45, ha=\"right\",\n",
    "             rotation_mode=\"anchor\")\n",
    "\n",
    "    # Loop over data dimensions and create text annotations.\n",
    "    fmt = 'd'\n",
    "    thresh = cm.max() / 2.\n",
    "    for i in range(cm.shape[0]):\n",
    "        for j in range(cm.shape[1]):\n",
    "            ax.text(j, i, format(cm[i, j], fmt),\n",
    "                    ha=\"center\", va=\"center\",\n",
    "                    color=\"white\" if cm[i, j] > thresh else \"black\")\n",
    "    fig.tight_layout()\n",
    "\n",
    "    return plt"
   ]
  },
  {
   "cell_type": "markdown",
   "metadata": {},
   "source": [
    "## Learning"
   ]
  },
  {
   "cell_type": "code",
   "execution_count": 8,
   "metadata": {},
   "outputs": [],
   "source": [
    "def supervised_learning(df, model, algorithm):\n",
    "    df = df.copy()\n",
    "    print(\"Training \"+algorithm+\" Model\")\n",
    "    labels = df['flagged']\n",
    "\n",
    "    df.drop(['reviewID', 'reviewerID', 'restaurantID', 'date', 'name', 'location', 'yelpJoinDate', 'flagged',\n",
    "             'reviewContent', 'restaurantRating'], axis=1, inplace=True)\n",
    "\n",
    "    train_data, test_data, train_label, test_label = train_test_split(df, labels, test_size=0.25, random_state=42)\n",
    "\n",
    "    # param_grid = {\n",
    "    #     'n_estimators': [10, 500],\n",
    "    #     'max_features': ['auto', 'sqrt', 'log2'],\n",
    "    #     'max_depth': [4, 5, 6, 7, 8, 9, 10, 11, 12, 13, 14],\n",
    "    #     'criterion': ['gini', 'entropy']\n",
    "    # }\n",
    "    # grid_clf_acc = GridSearchCV(estimator=model, param_grid=param_grid, cv=5)\n",
    "    #\n",
    "    # grid_clf_acc.fit(train_data, train_label)\n",
    "\n",
    "    model.fit(train_data, train_label)\n",
    "    predicted_labels = model.predict(test_data)\n",
    "\n",
    "    # print('Best Params : ', grid_clf_acc.best_params_)\n",
    "    print(algorithm + ' Model Results')\n",
    "    print('--' * 20)\n",
    "    print('Accuracy Score : ' + str(accuracy_score(test_label, predicted_labels)))\n",
    "    print('Precision Score : ' + str(precision_score(test_label, predicted_labels, pos_label=\"Y\")))\n",
    "    print('Recall Score : ' + str(recall_score(test_label, predicted_labels, pos_label=\"Y\")))\n",
    "    print('F1 Score : ' + str(f1_score(test_label, predicted_labels, pos_label=\"Y\")))\n",
    "    print('Confusion Matrix : \\n' + str(confusion_matrix(test_label, predicted_labels)))\n",
    "    plot_confusion_matrix(test_label, predicted_labels, classes=['N', 'Y'],\n",
    "                          title=algorithm + ' Confusion Matrix').show()\n",
    "\n",
    "    return test_label, predicted_labels, model"
   ]
  },
  {
   "cell_type": "code",
   "execution_count": 9,
   "metadata": {},
   "outputs": [],
   "source": [
    "def semi_supervised_learning(df, model, algorithm, threshold=0.8, iterations=40):\n",
    "    df = df.copy()\n",
    "    print(\"Training \"+algorithm+\" Model\")\n",
    "    labels = df['flagged']\n",
    "\n",
    "    # df.drop(['reviewID', 'reviewerID', 'restaurantID', 'date', 'name', 'location', 'yelpJoinDate', 'flagged', 'restaurantRating'], axis=1, inplace=True)\n",
    "    df.drop(['reviewID', 'reviewerID', 'restaurantID', 'date', 'name', 'location', 'yelpJoinDate',\n",
    "             'flagged', 'restaurantRating', 'usefulCount', 'coolCount', 'funnyCount',\n",
    "             'complimentCount', 'tipCount', 'fanCount'], axis=1, inplace=True)\n",
    "\n",
    "    train_data, test_data, train_label, test_label = train_test_split(df, labels, test_size=0.25, random_state=42)\n",
    "\n",
    "    test_review_content = test_data['reviewContent']\n",
    "    train_data.drop(['reviewContent'], axis=1, inplace=True)\n",
    "    test_data.drop(['reviewContent'], axis=1, inplace=True)\n",
    "    \n",
    "    test_data_copy = test_data.copy()\n",
    "    test_label_copy = test_label.copy()\n",
    "\n",
    "    all_labeled = False\n",
    "\n",
    "    current_iteration = 0\n",
    "\n",
    "    # param_grid = {\n",
    "    #     'n_estimators': [10, 500],\n",
    "    #     'max_features': ['auto', 'sqrt', 'log2'],\n",
    "    #     'max_depth': [4, 5, 6, 7, 8, 9, 10, 11, 12, 13, 14],\n",
    "    #     'criterion': ['gini', 'entropy']\n",
    "    # }\n",
    "    # grid_clf_acc = GridSearchCV(estimator=model, param_grid=param_grid, cv=5)\n",
    "    #\n",
    "    # grid_clf_acc.fit(train_data, train_label)\n",
    "\n",
    "    pbar = tqdm(total=iterations)\n",
    "\n",
    "    while not all_labeled and (current_iteration < iterations):\n",
    "        # print(\"Before train data length : \", len(train_data))\n",
    "        # print(\"Before test data length : \", len(test_data))\n",
    "        current_iteration += 1\n",
    "        model.fit(train_data, train_label)\n",
    "\n",
    "        probabilities = model.predict_proba(test_data)\n",
    "        pseudo_labels = model.predict(test_data)\n",
    "\n",
    "        indices = np.argwhere(probabilities > threshold)\n",
    "\n",
    "        # print(\"rows above threshold : \", len(indices))\n",
    "        for item in indices:\n",
    "            train_data.loc[test_data.index[item[0]]] = test_data.iloc[item[0]]\n",
    "            train_label.loc[test_data.index[item[0]]] = pseudo_labels[item[0]]\n",
    "        test_data.drop(test_data.index[indices[:, 0]], inplace=True)\n",
    "        test_label.drop(test_label.index[indices[:, 0]], inplace=True)\n",
    "        # print(\"After train data length : \", len(train_data))\n",
    "        # print(\"After test data length : \", len(test_data))\n",
    "        print(\"--\" * 20)\n",
    "\n",
    "        if len(test_data) == 0:\n",
    "            print(\"Exiting loop\")\n",
    "            all_labeled = True\n",
    "        pbar.update(1)\n",
    "    pbar.close()\n",
    "    predicted_labels = model.predict(test_data_copy)\n",
    "\n",
    "    # print('Best Params : ', grid_clf_acc.best_params_)\n",
    "    print(algorithm + ' Model Results')\n",
    "    print('--' * 20)\n",
    "    print('Accuracy Score : ' + str(accuracy_score(test_label_copy, predicted_labels)))\n",
    "    print('Precision Score : ' + str(precision_score(test_label_copy, predicted_labels, pos_label=\"Y\")))\n",
    "    print('Recall Score : ' + str(recall_score(test_label_copy, predicted_labels, pos_label=\"Y\")))\n",
    "    print('F1 Score : ' + str(f1_score(test_label_copy, predicted_labels, pos_label=\"Y\")))\n",
    "    print('Confusion Matrix : \\n' + str(confusion_matrix(test_label_copy, predicted_labels)))\n",
    "    plot_confusion_matrix(test_label_copy, predicted_labels, classes=['N', 'Y'],\n",
    "                          title=algorithm + ' Confusion Matrix').show()\n",
    "\n",
    "    results = test_data_copy.copy()\n",
    "    results['reviewContent'] = test_review_content\n",
    "    results['flagged'] = test_label_copy\n",
    "    results['predicted'] = predicted_labels\n",
    "\n",
    "    return model, results\n",
    "                          "
   ]
  },
  {
   "cell_type": "markdown",
   "metadata": {},
   "source": [
    "## Make train dataset"
   ]
  },
  {
   "cell_type": "code",
   "execution_count": 10,
   "metadata": {},
   "outputs": [],
   "source": [
    "# df = pd.read_csv('../Data/raw_thai_df.csv', index_col=0)\n",
    "# df = data_cleaning(df)\n",
    "# df = feature_engineering(df)\n",
    "# df.to_csv('../Data/thai_df.csv', index=False)\n"
   ]
  },
  {
   "cell_type": "code",
   "execution_count": 11,
   "metadata": {},
   "outputs": [],
   "source": [
    "df = pd.read_csv('../Data/thai_df.csv')"
   ]
  },
  {
   "cell_type": "code",
   "execution_count": 12,
   "metadata": {},
   "outputs": [],
   "source": [
    "# under_sampled_df = under_sampling(df)\n",
    "# under_sampled_df.to_csv('../Data/thai_under_sampled_df.csv', index=False)\n",
    "under_sampled_df = pd.read_csv('../Data/thai_under_sampled_df.csv')"
   ]
  },
  {
   "cell_type": "code",
   "execution_count": 13,
   "metadata": {},
   "outputs": [],
   "source": [
    "# over_sampled_df = over_sampling(df)\n",
    "# over_sampled_df.to_csv('../Data/thai_over_sampled_df.csv', index=False)\n",
    "over_sampled_df = pd.read_csv('../Data/thai_over_sampled_df.csv')"
   ]
  },
  {
   "cell_type": "markdown",
   "metadata": {},
   "source": [
    "# Dataframe EDA"
   ]
  },
  {
   "cell_type": "code",
   "execution_count": 14,
   "metadata": {},
   "outputs": [],
   "source": [
    "# df.head(5)"
   ]
  },
  {
   "cell_type": "code",
   "execution_count": 15,
   "metadata": {},
   "outputs": [],
   "source": [
    "# df.columns"
   ]
  },
  {
   "cell_type": "code",
   "execution_count": 16,
   "metadata": {},
   "outputs": [],
   "source": [
    "train_df = df.drop(['reviewID', 'reviewerID', 'restaurantID', 'date', 'name', 'location', 'yelpJoinDate', 'flagged', 'reviewContent', 'restaurantRating', 'usefulCount', 'coolCount', 'funnyCount',\n",
    "                     'complimentCount', 'tipCount', 'fanCount'], axis=1)\n",
    "train_df.to_csv('../Data/thai_train_df.csv', index=False)"
   ]
  },
  {
   "cell_type": "code",
   "execution_count": 17,
   "metadata": {},
   "outputs": [
    {
     "data": {
      "text/plain": [
       "Index(['rating', 'reviewUsefulCount', 'friendCount', 'reviewCount',\n",
       "       'firstCount', 'scaledReviewPerDay', 'reviewsLength', 'reviewsDeviation',\n",
       "       'maximumContentSimilarity'],\n",
       "      dtype='object')"
      ]
     },
     "execution_count": 17,
     "metadata": {},
     "output_type": "execute_result"
    }
   ],
   "source": [
    "train_df.columns"
   ]
  },
  {
   "cell_type": "markdown",
   "metadata": {},
   "source": [
    "### Train DF Columns\n",
    "- rating = comment rating **<span style=\"color:CornflowerBlue\">(raw review file)</span>**\n",
    "- reviewUsefulCount = number of user's review useful count raw **<span style=\"color:CornflowerBlue\">(count form raw review file)</span>** \n",
    "- friendCount = number of user's friend raw **<span style=\"color:CornflowerBlue\">(join form user file)</span>** \n",
    "- reviewCount = number of user's review count raw **<span style=\"color:CornflowerBlue\">(join form user file)</span>** \n",
    "- firstCount = number of user's first comment raw **<span style=\"color:CornflowerBlue\">(count form raw review file)</span>** \n",
    "- usefulCount = number of comment's useful count raw **<span style=\"color:CornflowerBlue\">(raw review file)</span>** \n",
    "- coolCount = number of comment's cool count raw **<span style=\"color:CornflowerBlue\">(raw review file)</span>** \n",
    "- funnyCount = number of comment's funny count raw **<span style=\"color:CornflowerBlue\">(raw review file)</span>** \n",
    "- complimentCount = review's compliment count raw **<span style=\"color:CornflowerBlue\">(join form tip file)</span>** \n",
    "- tipCount = user's tip count raw **<span style=\"color:CornflowerBlue\">(join form tip file)</span>** \n",
    "- fanCount = number of user's fan raw **<span style=\"color:CornflowerBlue\">(join form user file)</span>** \n",
    "- scaledReviewPerDay = scaled review per day raw **<span style=\"color:CornflowerBlue\">(calculate from raw review file)</span>** \n",
    "- reviewsLength = review length raw **<span style=\"color:CornflowerBlue\">(calculate from raw review file)</span>** \n",
    "- reviewsDeviation = store rating - user rating raw **<span style=\"color:CornflowerBlue\">(calculate form businees and reviews file)</span>**\n",
    "- maximumContentSimilarity = maximun content similarity raw **<span style=\"color:CornflowerBlue\">(calculate from raw review file)</span>** "
   ]
  },
  {
   "cell_type": "code",
   "execution_count": 18,
   "metadata": {},
   "outputs": [],
   "source": [
    "# import warnings\n",
    "# warnings.filterwarnings('ignore')"
   ]
  },
  {
   "cell_type": "code",
   "execution_count": 19,
   "metadata": {},
   "outputs": [],
   "source": [
    "# %matplotlib inline\n",
    "# from autoviz.AutoViz_Class import AutoViz_Class\n",
    "# autoviz = AutoViz_Class().AutoViz('../Data/thai_train_df.csv')"
   ]
  },
  {
   "cell_type": "markdown",
   "metadata": {},
   "source": [
    "## Model"
   ]
  },
  {
   "cell_type": "code",
   "execution_count": 20,
   "metadata": {},
   "outputs": [],
   "source": [
    "rf = RandomForestClassifier(random_state=42, criterion='entropy', max_depth=14, max_features='auto',\n",
    "                            n_estimators=500)\n",
    "nb = GaussianNB()"
   ]
  },
  {
   "cell_type": "code",
   "execution_count": 21,
   "metadata": {},
   "outputs": [
    {
     "name": "stdout",
     "output_type": "stream",
     "text": [
      "Training Random Forest Model\n"
     ]
    },
    {
     "name": "stderr",
     "output_type": "stream",
     "text": [
      "  7%|▋         | 1/15 [00:23<05:27, 23.37s/it]"
     ]
    },
    {
     "name": "stdout",
     "output_type": "stream",
     "text": [
      "----------------------------------------\n"
     ]
    },
    {
     "name": "stderr",
     "output_type": "stream",
     "text": [
      " 13%|█▎        | 2/15 [00:32<03:11, 14.72s/it]"
     ]
    },
    {
     "name": "stdout",
     "output_type": "stream",
     "text": [
      "----------------------------------------\n"
     ]
    },
    {
     "name": "stderr",
     "output_type": "stream",
     "text": [
      " 20%|██        | 3/15 [00:40<02:21, 11.80s/it]"
     ]
    },
    {
     "name": "stdout",
     "output_type": "stream",
     "text": [
      "----------------------------------------\n"
     ]
    },
    {
     "name": "stderr",
     "output_type": "stream",
     "text": [
      " 27%|██▋       | 4/15 [00:48<01:54, 10.41s/it]"
     ]
    },
    {
     "name": "stdout",
     "output_type": "stream",
     "text": [
      "----------------------------------------\n"
     ]
    },
    {
     "name": "stderr",
     "output_type": "stream",
     "text": [
      " 33%|███▎      | 5/15 [00:56<01:36,  9.65s/it]"
     ]
    },
    {
     "name": "stdout",
     "output_type": "stream",
     "text": [
      "----------------------------------------\n"
     ]
    },
    {
     "name": "stderr",
     "output_type": "stream",
     "text": [
      " 40%|████      | 6/15 [01:05<01:22,  9.16s/it]"
     ]
    },
    {
     "name": "stdout",
     "output_type": "stream",
     "text": [
      "----------------------------------------\n"
     ]
    },
    {
     "name": "stderr",
     "output_type": "stream",
     "text": [
      " 47%|████▋     | 7/15 [01:13<01:11,  8.90s/it]"
     ]
    },
    {
     "name": "stdout",
     "output_type": "stream",
     "text": [
      "----------------------------------------\n"
     ]
    },
    {
     "name": "stderr",
     "output_type": "stream",
     "text": [
      " 53%|█████▎    | 8/15 [01:21<01:00,  8.67s/it]"
     ]
    },
    {
     "name": "stdout",
     "output_type": "stream",
     "text": [
      "----------------------------------------\n"
     ]
    },
    {
     "name": "stderr",
     "output_type": "stream",
     "text": [
      " 60%|██████    | 9/15 [01:29<00:51,  8.53s/it]"
     ]
    },
    {
     "name": "stdout",
     "output_type": "stream",
     "text": [
      "----------------------------------------\n"
     ]
    },
    {
     "name": "stderr",
     "output_type": "stream",
     "text": [
      " 67%|██████▋   | 10/15 [01:38<00:42,  8.40s/it]"
     ]
    },
    {
     "name": "stdout",
     "output_type": "stream",
     "text": [
      "----------------------------------------\n"
     ]
    },
    {
     "name": "stderr",
     "output_type": "stream",
     "text": [
      " 73%|███████▎  | 11/15 [01:46<00:33,  8.34s/it]"
     ]
    },
    {
     "name": "stdout",
     "output_type": "stream",
     "text": [
      "----------------------------------------\n"
     ]
    },
    {
     "name": "stderr",
     "output_type": "stream",
     "text": [
      " 80%|████████  | 12/15 [01:54<00:24,  8.27s/it]"
     ]
    },
    {
     "name": "stdout",
     "output_type": "stream",
     "text": [
      "----------------------------------------\n"
     ]
    },
    {
     "name": "stderr",
     "output_type": "stream",
     "text": [
      " 87%|████████▋ | 13/15 [02:02<00:16,  8.25s/it]"
     ]
    },
    {
     "name": "stdout",
     "output_type": "stream",
     "text": [
      "----------------------------------------\n"
     ]
    },
    {
     "name": "stderr",
     "output_type": "stream",
     "text": [
      " 93%|█████████▎| 14/15 [02:10<00:08,  8.22s/it]"
     ]
    },
    {
     "name": "stdout",
     "output_type": "stream",
     "text": [
      "----------------------------------------\n"
     ]
    },
    {
     "name": "stderr",
     "output_type": "stream",
     "text": [
      "100%|██████████| 15/15 [02:18<00:00,  9.26s/it]"
     ]
    },
    {
     "name": "stdout",
     "output_type": "stream",
     "text": [
      "----------------------------------------\n"
     ]
    },
    {
     "name": "stderr",
     "output_type": "stream",
     "text": [
      "\n"
     ]
    },
    {
     "name": "stdout",
     "output_type": "stream",
     "text": [
      "Random Forest Model Results\n",
      "----------------------------------------\n",
      "Accuracy Score : 0.8883776161496215\n",
      "Precision Score : 0.7614617940199335\n",
      "Recall Score : 0.7446393762183235\n",
      "F1 Score : 0.7529566360052562\n",
      "Confusion Matrix : \n",
      "[[4839  359]\n",
      " [ 393 1146]]\n"
     ]
    },
    {
     "data": {
      "image/png": "[encoded data removed]",
      "text/plain": [
       "<Figure size 432x288 with 2 Axes>"
      ]
     },
     "metadata": {
      "needs_background": "light"
     },
     "output_type": "display_data"
    },
    {
     "name": "stdout",
     "output_type": "stream",
     "text": [
      "Training Naive Bayes Model\n"
     ]
    },
    {
     "name": "stderr",
     "output_type": "stream",
     "text": [
      " 13%|█▎        | 2/15 [00:19<01:43,  7.98s/it]"
     ]
    },
    {
     "name": "stdout",
     "output_type": "stream",
     "text": [
      "----------------------------------------\n",
      "----------------------------------------\n",
      "----------------------------------------\n"
     ]
    },
    {
     "name": "stderr",
     "output_type": "stream",
     "text": [
      " 53%|█████▎    | 8/15 [00:19<00:08,  1.15s/it]"
     ]
    },
    {
     "name": "stdout",
     "output_type": "stream",
     "text": [
      "----------------------------------------\n",
      "----------------------------------------\n",
      "----------------------------------------\n",
      "----------------------------------------\n",
      "----------------------------------------\n",
      "----------------------------------------\n",
      "----------------------------------------\n"
     ]
    },
    {
     "name": "stderr",
     "output_type": "stream",
     "text": [
      "100%|██████████| 15/15 [00:19<00:00,  1.32s/it]"
     ]
    },
    {
     "name": "stdout",
     "output_type": "stream",
     "text": [
      "----------------------------------------\n",
      "----------------------------------------\n",
      "----------------------------------------\n",
      "----------------------------------------\n",
      "----------------------------------------\n",
      "Naive Bayes Model Results\n",
      "----------------------------------------\n",
      "Accuracy Score : 0.6931868784325368\n",
      "Precision Score : 0.4260089686098655\n",
      "Recall Score : 0.9876543209876543\n"
     ]
    },
    {
     "name": "stderr",
     "output_type": "stream",
     "text": [
      "\n"
     ]
    },
    {
     "name": "stdout",
     "output_type": "stream",
     "text": [
      "F1 Score : 0.5952614059134521\n",
      "Confusion Matrix : \n",
      "[[3150 2048]\n",
      " [  19 1520]]\n"
     ]
    },
    {
     "data": {
      "image/png": "[encoded data removed]",
      "text/plain": [
       "<Figure size 432x288 with 2 Axes>"
      ]
     },
     "metadata": {
      "needs_background": "light"
     },
     "output_type": "display_data"
    },
    {
     "data": {
      "text/plain": [
       "(GaussianNB(),\n",
       "        rating  reviewUsefulCount  friendCount  reviewCount  firstCount  \\\n",
       " 196         3                  2            8           24           0   \n",
       " 6354        2                  1            6           97           0   \n",
       " 3860        4                  0           12           74           4   \n",
       " 8999        4                  0           15            2           0   \n",
       " 99          5                  3           33          257           0   \n",
       " ...       ...                ...          ...          ...         ...   \n",
       " 11839       2                  0            0            3           0   \n",
       " 15827       4                  0            0           38           4   \n",
       " 5473        4                  0           62          326           2   \n",
       " 15180       5                  0           44          189          10   \n",
       " 2799        5                  0            0           12           0   \n",
       " \n",
       "        scaledReviewPerDay  reviewsLength  reviewsDeviation  \\\n",
       " 196              0.166667             43             0.375   \n",
       " 6354             0.083333            147             0.500   \n",
       " 3860             0.083333             92             0.000   \n",
       " 8999             0.083333             19             0.125   \n",
       " 99               0.083333            300             0.125   \n",
       " ...                   ...            ...               ...   \n",
       " 11839            0.083333             74             0.375   \n",
       " 15827            0.083333             85             0.000   \n",
       " 5473             0.166667             35             0.000   \n",
       " 15180            0.083333             14             0.250   \n",
       " 2799             0.083333             31             0.250   \n",
       " \n",
       "        maximumContentSimilarity  \\\n",
       " 196                    0.000000   \n",
       " 6354                   0.135871   \n",
       " 3860                   0.079149   \n",
       " 8999                   0.000000   \n",
       " 99                     0.131320   \n",
       " ...                         ...   \n",
       " 11839                  0.000000   \n",
       " 15827                  0.130412   \n",
       " 5473                   0.155740   \n",
       " 15180                  0.197583   \n",
       " 2799                   0.065282   \n",
       " \n",
       "                                                                                                                                                                                                                                                                                                                                                                                                                                                                                                                                                                                                                                                                                                                                                                                                                                                                                                                                                                                                                                                                                                                                                                                                                                                                     reviewContent  \\\n",
       " 196                                                                                                                                                                                                                                                                                                                                                                                                                                                                                                                                                                                                                                                                                                                                                                                                                                                                                                                                                                                                                                                  Mehฉันมีประสบการณ์ที่ดีกว่าที่นี่และที่อื่น ๆครั้งแรกคือการรักษาคราวนี้มันรู้สึกเหมือนน่าเบื่อบริการไม่มีตัวตนอาหารไม่น่าสนใจแม้กระทั่งคนเดินเท้าการจับคู่ไวน์ไม่เป็นไรรู้สึกเหมือน Alinea สูญเสียเวทมนตร์และโฟกัสฉันทิ้งไว้   \n",
       " 6354                                                                                                                                                                                                                                                                                                                                                                                                                                                                                                                                                                                                            ฉันเพิ่งพาแฟนสาวไปที่ Gejas Cafe เพื่อทานอาหารเย็นเป็นครั้งแรกเพื่อคืนความสนุกสนานเมื่อพิจารณาถึงสิ่งนั้นฉันไม่เคยคิดเลยว่าบรรยากาศหรือบริการควรมีน้ำหนักสูงกว่าอาหารที่สถานที่ให้บริการในการประเมินร้านอาหารโดยรวมจากที่กล่าวมาฉันพยายามที่จะกลับไปที่คาเฟ่ของ Geja โดยเฉพาะอย่างยิ่งเนื่องจากราคาที่พวกเขากำลังเรียกเก็บสำหรับเนื้อสัตว์และอาหารทะเลที่ไม่ได้ปรุงสำหรับบรรยากาศมันโรแมนติกและมีแสงสลัวอย่างไรก็ตามเมื่อปรุงอาหารของคุณเองในที่มืดคุณไม่สามารถช่วยได้ แต่กังวลว่าคุณไม่ได้เตรียมอาหารตามที่คุณต้องการบางทีคาเฟ่ของ Geja ไม่เหมาะกับฉัน แต่ฉันเชื่อว่ามีคนอื่นมากมายที่จะเห็นด้วยกับฉันฉันจะให้โอกาสฟองดูอีกครั้ง แต่ไม่ได้อีกครั้งที่ Gejas Cafe   \n",
       " 3860                                                                                                                                                                                                                                                                                                                                                                                                                                                                                                                                                                                                                                                                                                                                                                                                                                                                                              ฉันตกหลุมรักสถานที่แห่งนี้เมื่อฉันไปฉันได้รับเชิญให้ไปกับเพื่อนในวันเกิดของเธอฉันชอบที่มันเป็นอัญมณีที่ซ่อนอยู่-ฉันจะไม่เคยพบถ้าเพื่อนของฉันไม่ได้พบฉันฉันได้ค้นหาสถานที่เลานจ์ที่เงียบสงบตลอดไปในเมืองนี้และนี่คือมันเครื่องดื่มค่อนข้างสูงชัน แต่อร่อยมากฉันมีความสุขกับสภาพแวดล้อมมากฉันหวังว่าพวกเขาจะเปิดไฟในฤดูหนาวมันอบอุ่นมากแทบรอไม่ไหวที่จะพาเพื่อนของฉันไปเดทที่นั่น   \n",
       " 8999                                                                                                                                                                                                                                                                                                                                                                                                                                                                                                                                                                                                                                                                                                                                                                                                                                                                                                                                                                                                                                                                                                                                                                                                   อร่อยจริงๆฉันรักสตรอเบอร์รี่ OJ ของพวกเขาและพวกเขามีแฮชเนื้อวัวที่ดีที่สุด   \n",
       " 99     ฉันมีความคาดหวังสูงสำหรับสถานที่แห่งนี้และฉันต้องบอกว่ามันเป็นไปตามความคาดหวังของฉัน แต่ไม่เกินพวกเขา พวกเขาใช้ความคิดมากมายในอาหารและประสบการณ์โดยรวมของเราในขณะที่เรากำลังกิน ฉันก็ค่อนข้างประหลาดใจกับบางสิ่งที่พวกเขาสามารถทำได้กับอาหาร เมนูชิมคือ 19 หลักสูตร พร้อมหลักสูตรที่ 20 คุณสามารถเพิ่มประสบการณ์ของคุณได้อาหารจานที่น่าจดจำบางอย่าง ซุปบีทในใบน้ำแข็งขนาดใหญ่ที่มีรสชาติเหมือนหอยนางรมทำให้ Dashi อยู่ด้านหน้าของเรา Yuba ห่อด้วยกุ้ง การเปลี่ยนหอยเชลล์ให้เป็นเต้าหู้ที่นุ่มและอร่อยมาก โดยปกติฉันคิดว่านากเป็นเรื่องยาก แต่อันนี้ดีที่สุดที่ฉันเคยมี จานเห็ดที่จานนั่งอยู่บนหมอนและจมลงอย่างช้าๆ คุณควรจะเลียนแบบคุณเดินผ่านป่าที่มีกลิ่นหอมและเลือกเห็ดการระเบิดของความดีทรัฟเฟิลสีดำที่ตั้งอยู่บนมื้ออาหาร antiplate ที่ตั้งอยู่บนเครื่องใช้ในอาเรย์แบบสุ่มทั่วโต๊ะ แรงบันดาลใจจากมิโร-ถังนี้ใน กลางให้กลิ่นลาเวนเดอร์ในขณะที่คุณกำลังกินบรีและแอปเปิ้ลกรอบบนแท่งอบเชยแสง เล่นกับกลิ่นขณะที่คุณกินอีกครั้ง หิมะปรุงรสเป็นสะระแหน่และช็อคโกแลตร้อนใส ทะเลทรายที่พ่อครัวออกมา n ด้านหน้าของเรา สถานที่นี้คุ้มค่าแน่นอน  ทุกอย่างถูกนำเสนอให้ฉันอย่างมีศิลปะ อาหารก็มีรสชาติที่ยอดเยี่ยม พวกเขายังพยายามที่จะมีส่วนร่วมกับฉันในบางส่วน เช่นการทำบางสิ่งบางอย่างเพื่ออาหารหรือการประกอบชิ้นส่วนของอาหารเย็น ฉันอาจพิจารณามาที่นี่อีกครั้ง  ฤดูกาลอื่น ๆ  D   \n",
       " ...                                                                                                                                                                                                                                                                                                                                                                                                                                                                                                                                                                                                                                                                                                                                                                                                                                                                                                                                                                                                                                                                                                                                                                                                                                                                           ...   \n",
       " 11839                                                                                                                                                                                                                                                                                                                                                                                                                                                                                                                                                                                                                                                                                                                                                                                                                                                                                                                                                                             สถานที่สวยงามแฟนของฉันและฉันนั่งข้างหน้าต่างดู Michigan Aveบริการยอดเยี่ยมมากและอาหารก็ไม่ค่อยดีนักฉันมีเนื้อลูกวัวที่มีพาสต้าและเนื้อลูกวัวแห้งมากซึ่งเข้ากับพาสต้าแห้งที่ด้านข้างของจานของฉันแฟนของฉันสนุกกับสเต็กของเขาดังนั้นฉันคิดว่าอย่าได้รับเนื้อลูกวัวเมื่อคุณอยู่ที่นั่น แต่ไปหาสเต็ก   \n",
       " 15827                                                                                                                                                                                                                                                                                                                                                                                                                                                                                                                                                                                                                                                                                                                                                                                                                                                                                                                                  ผู้ตรวจสอบคนอื่น ๆ ได้ครอบคลุมมันค่อนข้างมาก แต่ฉันแค่เพิ่มสิ่งต่อไปนี้ Ribeye กระดูกในนั้นน่าทึ่งมากหากบริกรของคุณพยายามขายคุณให้กับการตัด 33oz ให้ส่งต่อไปมันดี แต่แพงมากและอาหารมากเกินไปมันฝรั่งบดของกุ้งมังกรนั้นดี แต่ไม่คุ้มกับราคาประหยัดเงินของคุณและยึดติดกับเครื่องเคียงอื่น ๆโดยรวมแล้วฉันชอบที่จะกลับมาเราทานอาหารที่ดีที่นี่   \n",
       " 5473                                                                                                                                                                                                                                                                                                                                                                                                                                                                                                                                                                                                                                                                                                                                                                                                                                                                                                                                                                                                                                                                                                                                        การจัดส่งที่สั่งซื้อจากที่นี่และแซนวิชก็โอเคดีและราคาถูกต่ำกว่า  5Milkshake ข้าวโอ๊ตนั้นดีจริง ๆ  ครีมหนาและมีค่าใช้จ่ายในปริมาณที่ดี   \n",
       " 15180                                                                                                                                                                                                                                                                                                                                                                                                                                                                                                                                                                                                                                                                                                                                                                                                                                                                                                                                                                                                                                                                                                                                                                                                   นอกเหนือจากรีวิวก่อนหน้าของฉันคุณต้องลอง SuperonionChips อย่างแน่นอนอร่อย   \n",
       " 2799                                                                                                                                                                                                                                                                                                                                                                                                                                                                                                                                                                                                                                                                                                                                                                                                                                                                                                                                                                                                                                                                                                                                       รักคาราโอเกะวงดนตรีสด-ทำเพื่อความรู้สึกที่เต็มไปด้วยจังหวะเบียร์ที่ยอดเยี่ยมฉันอยู่ที่นี่สองครั้งซึ่งหมายถึงคืนที่น่าจดจำและสนุกสุด ๆ    \n",
       " \n",
       "       flagged predicted  \n",
       " 196         N         N  \n",
       " 6354        N         N  \n",
       " 3860        N         N  \n",
       " 8999        Y         Y  \n",
       " 99          N         N  \n",
       " ...       ...       ...  \n",
       " 11839       Y         Y  \n",
       " 15827       N         Y  \n",
       " 5473        N         N  \n",
       " 15180       N         N  \n",
       " 2799        Y         Y  \n",
       " \n",
       " [6737 rows x 12 columns])"
      ]
     },
     "execution_count": 21,
     "metadata": {},
     "output_type": "execute_result"
    }
   ],
   "source": [
    "semi_supervised_learning(df, model=rf, threshold=0.7, iterations=15, algorithm='Random Forest')\n",
    "semi_supervised_learning(df, model=nb, threshold=0.7, iterations=15, algorithm='Naive Bayes')"
   ]
  },
  {
   "cell_type": "code",
   "execution_count": 22,
   "metadata": {},
   "outputs": [
    {
     "name": "stdout",
     "output_type": "stream",
     "text": [
      "Training Random Forest Model\n"
     ]
    },
    {
     "name": "stderr",
     "output_type": "stream",
     "text": [
      "  7%|▋         | 1/15 [00:09<02:13,  9.55s/it]"
     ]
    },
    {
     "name": "stdout",
     "output_type": "stream",
     "text": [
      "----------------------------------------\n"
     ]
    },
    {
     "name": "stderr",
     "output_type": "stream",
     "text": [
      " 13%|█▎        | 2/15 [00:14<01:25,  6.59s/it]"
     ]
    },
    {
     "name": "stdout",
     "output_type": "stream",
     "text": [
      "----------------------------------------\n"
     ]
    },
    {
     "name": "stderr",
     "output_type": "stream",
     "text": [
      " 20%|██        | 3/15 [00:18<01:06,  5.55s/it]"
     ]
    },
    {
     "name": "stdout",
     "output_type": "stream",
     "text": [
      "----------------------------------------\n"
     ]
    },
    {
     "name": "stderr",
     "output_type": "stream",
     "text": [
      " 27%|██▋       | 4/15 [00:22<00:55,  5.06s/it]"
     ]
    },
    {
     "name": "stdout",
     "output_type": "stream",
     "text": [
      "----------------------------------------\n"
     ]
    },
    {
     "name": "stderr",
     "output_type": "stream",
     "text": [
      " 33%|███▎      | 5/15 [00:26<00:47,  4.77s/it]"
     ]
    },
    {
     "name": "stdout",
     "output_type": "stream",
     "text": [
      "----------------------------------------\n"
     ]
    },
    {
     "name": "stderr",
     "output_type": "stream",
     "text": [
      " 40%|████      | 6/15 [00:31<00:41,  4.61s/it]"
     ]
    },
    {
     "name": "stdout",
     "output_type": "stream",
     "text": [
      "----------------------------------------\n"
     ]
    },
    {
     "name": "stderr",
     "output_type": "stream",
     "text": [
      " 47%|████▋     | 7/15 [00:35<00:36,  4.51s/it]"
     ]
    },
    {
     "name": "stdout",
     "output_type": "stream",
     "text": [
      "----------------------------------------\n"
     ]
    },
    {
     "name": "stderr",
     "output_type": "stream",
     "text": [
      " 53%|█████▎    | 8/15 [00:39<00:31,  4.43s/it]"
     ]
    },
    {
     "name": "stdout",
     "output_type": "stream",
     "text": [
      "----------------------------------------\n"
     ]
    },
    {
     "name": "stderr",
     "output_type": "stream",
     "text": [
      " 60%|██████    | 9/15 [00:44<00:26,  4.38s/it]"
     ]
    },
    {
     "name": "stdout",
     "output_type": "stream",
     "text": [
      "----------------------------------------\n"
     ]
    },
    {
     "name": "stderr",
     "output_type": "stream",
     "text": [
      " 67%|██████▋   | 10/15 [00:48<00:21,  4.33s/it]"
     ]
    },
    {
     "name": "stdout",
     "output_type": "stream",
     "text": [
      "----------------------------------------\n"
     ]
    },
    {
     "name": "stderr",
     "output_type": "stream",
     "text": [
      " 73%|███████▎  | 11/15 [00:52<00:17,  4.30s/it]"
     ]
    },
    {
     "name": "stdout",
     "output_type": "stream",
     "text": [
      "----------------------------------------\n"
     ]
    },
    {
     "name": "stderr",
     "output_type": "stream",
     "text": [
      " 80%|████████  | 12/15 [00:56<00:12,  4.28s/it]"
     ]
    },
    {
     "name": "stdout",
     "output_type": "stream",
     "text": [
      "----------------------------------------\n"
     ]
    },
    {
     "name": "stderr",
     "output_type": "stream",
     "text": [
      " 87%|████████▋ | 13/15 [01:00<00:08,  4.26s/it]"
     ]
    },
    {
     "name": "stdout",
     "output_type": "stream",
     "text": [
      "----------------------------------------\n"
     ]
    },
    {
     "name": "stderr",
     "output_type": "stream",
     "text": [
      " 93%|█████████▎| 14/15 [01:05<00:04,  4.24s/it]"
     ]
    },
    {
     "name": "stdout",
     "output_type": "stream",
     "text": [
      "----------------------------------------\n"
     ]
    },
    {
     "name": "stderr",
     "output_type": "stream",
     "text": [
      "100%|██████████| 15/15 [01:09<00:00,  4.63s/it]"
     ]
    },
    {
     "name": "stdout",
     "output_type": "stream",
     "text": [
      "----------------------------------------\n"
     ]
    },
    {
     "name": "stderr",
     "output_type": "stream",
     "text": [
      "\n"
     ]
    },
    {
     "name": "stdout",
     "output_type": "stream",
     "text": [
      "Random Forest Model Results\n",
      "----------------------------------------\n",
      "Accuracy Score : 0.8733075435203095\n",
      "Precision Score : 0.8389261744966443\n",
      "Recall Score : 0.9142287234042553\n",
      "F1 Score : 0.8749602290804963\n",
      "Confusion Matrix : \n",
      "[[1334  264]\n",
      " [ 129 1375]]\n"
     ]
    },
    {
     "data": {
      "image/png": "[encoded data removed]",
      "text/plain": [
       "<Figure size 432x288 with 2 Axes>"
      ]
     },
     "metadata": {
      "needs_background": "light"
     },
     "output_type": "display_data"
    },
    {
     "name": "stdout",
     "output_type": "stream",
     "text": [
      "Training Naive Bayes Model\n"
     ]
    },
    {
     "name": "stderr",
     "output_type": "stream",
     "text": [
      " 93%|█████████▎| 14/15 [00:06<00:00,  3.78it/s]"
     ]
    },
    {
     "name": "stdout",
     "output_type": "stream",
     "text": [
      "----------------------------------------\n",
      "----------------------------------------\n",
      "----------------------------------------\n",
      "----------------------------------------\n",
      "----------------------------------------\n",
      "----------------------------------------\n",
      "----------------------------------------\n",
      "----------------------------------------\n",
      "----------------------------------------\n",
      "----------------------------------------\n",
      "----------------------------------------\n",
      "----------------------------------------\n",
      "----------------------------------------\n",
      "----------------------------------------\n"
     ]
    },
    {
     "name": "stderr",
     "output_type": "stream",
     "text": [
      "100%|██████████| 15/15 [00:06<00:00,  2.43it/s]\n"
     ]
    },
    {
     "name": "stdout",
     "output_type": "stream",
     "text": [
      "----------------------------------------\n",
      "Naive Bayes Model Results\n",
      "----------------------------------------\n",
      "Accuracy Score : 0.7998065764023211\n",
      "Precision Score : 0.7101380295097572\n",
      "Recall Score : 0.9920212765957447\n",
      "F1 Score : 0.827739251040222\n",
      "Confusion Matrix : \n",
      "[[ 989  609]\n",
      " [  12 1492]]\n"
     ]
    },
    {
     "data": {
      "image/png": "[encoded data removed]",
      "text/plain": [
       "<Figure size 432x288 with 2 Axes>"
      ]
     },
     "metadata": {
      "needs_background": "light"
     },
     "output_type": "display_data"
    },
    {
     "data": {
      "text/plain": [
       "(GaussianNB(),\n",
       "        rating  reviewUsefulCount  friendCount  reviewCount  firstCount  \\\n",
       " 1713        5                  1           12           19           0   \n",
       " 5337        3                  0           53          478          52   \n",
       " 10265       4                  0           15           21           0   \n",
       " 2487        5                  0           12            8           0   \n",
       " 11865       5                  0            5            7           0   \n",
       " ...       ...                ...          ...          ...         ...   \n",
       " 12326       3                  0            0           14           3   \n",
       " 7645        4                  0            0           14           1   \n",
       " 10753       5                  0            0            2           0   \n",
       " 2816        4                  0            2           21           1   \n",
       " 10240       5                  0            0           23           0   \n",
       " \n",
       "        scaledReviewPerDay  reviewsLength  reviewsDeviation  \\\n",
       " 1713             0.083333            147             0.125   \n",
       " 5337             0.083333            182             0.250   \n",
       " 10265            0.083333             88             0.000   \n",
       " 2487             0.166667             77             0.250   \n",
       " 11865            0.083333             12             0.125   \n",
       " ...                   ...            ...               ...   \n",
       " 12326            0.083333             44             0.250   \n",
       " 7645             0.166667             48             0.000   \n",
       " 10753            0.083333             90             0.250   \n",
       " 2816             0.083333            328             0.000   \n",
       " 10240            0.166667            142             0.250   \n",
       " \n",
       "        maximumContentSimilarity  \\\n",
       " 1713                   0.069875   \n",
       " 5337                   0.147257   \n",
       " 10265                  0.000000   \n",
       " 2487                   0.043362   \n",
       " 11865                  0.000000   \n",
       " ...                         ...   \n",
       " 12326                  0.000000   \n",
       " 7645                   0.020766   \n",
       " 10753                  0.000000   \n",
       " 2816                   0.046031   \n",
       " 10240                  0.038739   \n",
       " \n",
       "                                                                                                                                                                                                                                                                                                                                                                                                                                                                                                                                                                                                                                                                                                                                                                                                                                                                                                                                                                                                                                                                                                                                                                                                                   reviewContent  \\\n",
       " 1713                                                                                                                                                                                                                                                                                                                                                                                                                                                                                                                                                                                   ฉันรักอาหารคิวบาและนี่คือสิ่งที่ดีที่สุดเท่าที่ฉันเคยมีมาเนื่องจากนี่เป็นครั้งแรกของฉันที่ร้านอาหารฉันจึงมีพนักงานเสิร์ฟพาฉันผ่านเมนูและแนะนำตัวเลือกบางอย่างฉันลงเอยด้วยการทานอาหารค่ำหมูดึงสามีของฉันทานอาหารค่ำ Ropa Vieja และเราแบ่งปัน Chorizo  Cheese Empanadaโว้วมันเคยเป็นอร่อยหมูดึงถูกปรุงช้าเป็นเวลาหลายชั่วโมงและมีรสชาติละลายในปากของคุณRopa Vieja ก็ดีมาก แต่ฉันชอบอาหารของฉันดีขึ้นเล็กน้อยสถานที่แห่งนี้ไม่มีการรับประทานอาหารด้านในมีขนาดเล็กมากโดยมีเพียงพื้นที่เคาน์เตอร์ในบ้านและมีลานขนาดเล็กสำหรับที่นั่งกลางแจ้งมันดูเหมือนกระท่อมจากภายนอกเล็กน้อย แต่อย่าข่มขู่เป็นอาหารที่ดีที่สุดที่คุณมีฉันจะกลับมาอีกแน่นอน   \n",
       " 5337                                                                                                                                                                                                                                                                                                                                                                                                                                                             ฉันอยากจะรักสถานที่นี้ แต่ฉันก็ไม่ทำฉันไม่สามารถวางนิ้วลงบนมันได้ แต่อันนี้จะเมื่อเปรียบเทียบกับประสบการณ์ที่ตำแหน่ง Oak Brookอาจเป็นเพราะทุกสิ่งทุกอย่างที่นี่ดูเหมือนจะปิดลงหรือร้านอาหารทั้งหมดเต็มไปด้วยผู้สูงอายุ มีทัวร์รถบัสอยู่ที่นั่น เมื่อเรากิน แต่ทุกอย่างดูช้าและน่าเบื่ออาหารก็ดี แต่ก็ไม่มีอะไรน่าตื่นเต้นและฉันคาดหวังจากไฟป่ามากขึ้นฉันมีถ้วยซุปหอยและปลาพาร์เมซานที่มีข้าวกับข้าวและแก้ว Malbec หนึ่งแก้วสามีมีจานตัวอย่างบาร์บีคิว ทุกวันพุธ - ลองอย่างจริงจัง และมาทิลด้าสองสามตัวไม่มีอะไรผิดปกติ แต่ไม่มีอะไรเหลือเชื่อและราคาเหล่านี้ในห้องพักครึ่งที่ว่างเปล่าพวกเขาควรจะหยุดหยุดมากขึ้นและโปรดสำหรับความรักของพระเจ้ากำจัดขนมปังหัวหอมที่คุณเสิร์ฟก่อนมื้ออาหาร - ไปกับม้วนเพรทเซลหรืออย่างน้อยก็อีกทางเลือกหนึ่งโดยไม่มีหัวหอมเกลียด   \n",
       " 10265                                                                                                                                                                                                                                                                                                                                                                                                                                                                                                                                                                                                                                                                                                                                                                                                                                                            ฉันอาศัยอยู่ใน Champaign-Urbana และไม่เคยไปชิคาโกบ่อยครั้งดังนั้นฉันเพิ่งเรียนรู้ว่า Sun Wah ได้ย้ายไปยังสถานที่ใหม่ซึ่งมีการตั้งค่าที่ใหญ่กว่าและดีกว่าฉันสั่งซุปเกี๊ยวด้วยหมูบาร์บีคิวและมันก็อร่อยเช่นเคยซุปมีความสมดุลไม่หวานหรือเค็มอย่างไรก็ตามหมูบาร์บีคิวมามีกลิ่นเล็กน้อยเกี๊ยวเป็นฮิวจ์และพวกเขาก็อัดแน่นไปด้วยหมูบดและกุ้ง  อร่อย ราคาดีอาหารอร่อย    \n",
       " 2487                                                                                                                                                                                                                                                                                                                                                                                                                                                                                                                                                                                                                                                                                                                                                                                                                                                                                                                 ทั้งหมดที่ฉันต้องพูดก็คือเม็กซิกันที่ไม่เหมือนใครที่สุดเท่าที่ฉันเคยมีมาCaldos Carnitas ค่อนข้างเตะมันอร่อยมากที่ฉันอยากกลับเข้าแถวและจบลงในไม่กี่วินาที แต่แทนที่จะเลือกที่จะไปที่ Frontera Grill สำหรับเครื่องดื่มและของหวานGUAC โยกตัวเป็นแอพ แต่ฉันชอบ Salsa Verdeรสชาติเหมือนมันทำให้สดใหม่ในเม็กซิโก   \n",
       " 11865                                                                                                                                                                                                                                                                                                                                                                                                                                                                                                                                                                                                                                                                                                                                                                                                                                                                                                                                                                                                                                                                                                                                                                 ทั้งหมดที่ฉันต้องบอกว่าน่าทึ่งโดยเฉพาะถ้าคุณรักเนื้อสัตว์   \n",
       " ...                                                                                                                                                                                                                                                                                                                                                                                                                                                                                                                                                                                                                                                                                                                                                                                                                                                                                                                                                                                                                                                                                                                                                                                                                         ...   \n",
       " 12326                                                                                                                                                                                                                                                                                                                                                                                                                                                                                                                                                                                                                                                                                                                                                                                                                                                                                                                                                                                                                                                           พูดง่ายๆก็ไม่ประทับใจฉันเดาว่าฉันคาดหวังว่าทาโก้คุณภาพของลอสแองเจลิสและถูกนำตัวลงราคาก็โอเค แต่ไม่ถูกฉันเดาว่าฉันจะมองหาสถานที่ Taco พิเศษที่ทำให้ฉันนึกถึงบ้าน   \n",
       " 7645                                                                                                                                                                                                                                                                                                                                                                                                                                                                                                                                                                                                                                                                                                                                                                                                                                                                                                                                                                                                 เหมาะสำหรับบรันช์หรืออาหารกลางวันฉันเรียนในโมร็อกโกในฐานะนักศึกษาวิทยาลัยและรักทุกสิ่งที่ทำให้ฉันนึกถึงรสชาติที่หวาน/เผ็ดเหล่านั้นIcosium มีรสชาติของแอฟริกาเหนือและยุโรปให้เลือกมากมายที่ดีที่สุดคือราคาถูกและบริการดีมาก   \n",
       " 10753                                                                                                                                                                                                                                                                                                                                                                                                                                                                                                                                                                                                                                                                                                                                                                                                                                                                     ฉันไม่สามารถพูดสิ่งดีๆเกี่ยวกับ Kinzie Chophouse ได้ฉันทำงานในพื้นที่และฉันสนุกกับบรรยากาศและพนักงานจริงๆสเต็กอยู่นอกโลกนี้พนักงานจะนำถาดเนื้อสัตว์ไว้ที่โต๊ะของคุณเพื่อแสดงการเลือกของพวกเขาฉันเป็นนักชิมทั้งหมดและสถานที่แห่งนี้เป็นยอดในหนังสือของฉันตอนนี้พวกเขากำลังทำเมนูฤดูหนาว - อาหารเย็น 3 คอร์สราคา  2000 - น่าทึ่ง ลองดูสิคุณจะรักมันไชโย   \n",
       " 2816   ฉันไปที่นี่กับคนอื่นอีกสามคนในคืนวันพฤหัสบดีเวลาประมาณ 2130 น และไม่ต้องรอ พื้นที่อบอุ่นและน่าสนใจ บาร์เป็นจุดศูนย์กลางของห้อง - มันแกะสลักอย่างประณีตและก๊อกเบียร์เป็นหมัดสีที่แตกต่างกัน เป็นไปได้ที่เราจะทำเรื่องตลกเกี่ยวกับเรื่องนี้ เราเริ่มต้นด้วยข้าวโพดคั่วเบคอนซึ่งอุดมไปด้วยเค็มและอร่อย นอกจากนี้เรายังมีปีกซึ่งเผ็ดและอร่อย แต่ไม่ได้พัดฉันออกไป - ปีกที่ดีไม่ใช่การเปลี่ยนแปลงชีวิต ขณะที่ฉันพิมพ์ว่าฉันเริ่มสงสัยว่าบางทีฉันคาดหวังมากเกินไปจากปีกของฉัน ระหว่างพวกเราสี่คนที่เรามี แซนด์วิชไก่ - ฉันไม่ได้ลองเพราะฉันไม่ใช่แฟนแซนด์วิชไก่ตัวใหญ่ แต่ คนอื่น ๆ ที่โต๊ะดูเหมือนจะสนุกกับมันจริงๆ Hombre Burger - อร่อยจริงๆแถบ Tortilla และชีสเพิ่มรสชาติที่ยอดเยี่ยมและเบอร์เกอร์ก็ปรุงสุกดี Farm Burger - ดีเบอร์เกอร์ที่ดีปรุงได้ดีกับไข่อยู่ด้านบน ยากที่จะไม่ชอบ Roast Beet Pizza - ฉันควรนำหน้าด้วยการบอกว่าหัวผักกาดเป็นหนึ่งในสิ่งที่ฉันชอบฉันรู้ว่าพวกเขาไม่ได้มีไว้สำหรับทุกคน แต่ฉันชอบลูกกลมทับทิมเล็ก ๆ น้อย ๆ ด้วยที่กล่าวว่าพิซซ่าก็อร่อย เปลือกโลกกรอบและผอม มันมีบีท, ผักโขม, ชีสแพะและครีมมะรุม - ซึ่งเพิ่มรสชาติที่ดีจริงๆ รอคอยที่จะกินของเหลือของฉันในวันนี้ หนึ่งในสิ่งที่ดีที่สุดเกี่ยวกับสถานที่นี้คือรายการเบียร์ เบียร์ชงในสถานที่มากมายและพวกเขามีตัวอย่าง 5 ออนซ์ราคา  2 ต่อคน   \n",
       " 10240                                                                                                                                                                                                                                                                                                                                                                                                                                                                                                                                                                                         ฉันอาศัยอยู่ในชิคาโกมาตลอดชีวิตและนี่เป็นส่วนสำคัญในวัยเด็กของฉันบาร์บีคิวมีความสดใหม่อยู่เสมอ + ดีมากแม้ว่าจะมีราคาสูง แต่ก็คุ้มค่ากับการเดินทางไกลไปยังไชน่าทาวน์บรรยากาศอาจขาดไปเล็กน้อยในวันที่ช้าเนื่องจากห้องรับประทานอาหารใหม่ขนาดใหญ่บรรยากาศสบาย ๆ พร้อมห้องครัวแบบเปิดไม่เป็นมิตรกับมังสวิรัติกับเนื้อสัตว์ที่แขวนอยู่บนจอแสดงผล แต่เป็นสิ่งที่คุณจะพบในบาร์บีคิวจีนทั่วโลกเราเป็นแฟนซุนวาที่ภักดีเสียชีวิตจนกระทั่งเมื่อไม่กี่ปีที่ผ่านมาเมื่อเราค้นพบสถานที่อื่น ๆ ในไชน่าทาวน์ซึ่งเกือบจะดีพอในราคาที่ถูกกว่าอย่างไรก็ตามเนื่องจากเป็นสถานที่บาร์บีคิวที่ดีเพียงแห่งเดียวใน Northside ฉันจะเป็นแฟนตัวยงของพวกเขาเสมอ   \n",
       " \n",
       "       flagged predicted  \n",
       " 1713        N         N  \n",
       " 5337        N         N  \n",
       " 10265       Y         Y  \n",
       " 2487        N         Y  \n",
       " 11865       Y         Y  \n",
       " ...       ...       ...  \n",
       " 12326       Y         Y  \n",
       " 7645        Y         Y  \n",
       " 10753       Y         Y  \n",
       " 2816        N         Y  \n",
       " 10240       Y         Y  \n",
       " \n",
       " [3102 rows x 12 columns])"
      ]
     },
     "execution_count": 22,
     "metadata": {},
     "output_type": "execute_result"
    }
   ],
   "source": [
    "semi_supervised_learning(under_sampled_df, model=rf, threshold=0.7, iterations=15, algorithm='Random Forest')\n",
    "semi_supervised_learning(under_sampled_df, model=nb, threshold=0.7, iterations=15, algorithm='Naive Bayes')"
   ]
  },
  {
   "cell_type": "code",
   "execution_count": 23,
   "metadata": {},
   "outputs": [
    {
     "name": "stdout",
     "output_type": "stream",
     "text": [
      "Training Random Forest Model\n"
     ]
    },
    {
     "name": "stderr",
     "output_type": "stream",
     "text": [
      "  7%|▋         | 1/15 [00:42<09:57, 42.65s/it]"
     ]
    },
    {
     "name": "stdout",
     "output_type": "stream",
     "text": [
      "----------------------------------------\n"
     ]
    },
    {
     "name": "stderr",
     "output_type": "stream",
     "text": [
      " 13%|█▎        | 2/15 [00:55<05:26, 25.11s/it]"
     ]
    },
    {
     "name": "stdout",
     "output_type": "stream",
     "text": [
      "----------------------------------------\n"
     ]
    },
    {
     "name": "stderr",
     "output_type": "stream",
     "text": [
      " 20%|██        | 3/15 [01:07<03:50, 19.19s/it]"
     ]
    },
    {
     "name": "stdout",
     "output_type": "stream",
     "text": [
      "----------------------------------------\n"
     ]
    },
    {
     "name": "stderr",
     "output_type": "stream",
     "text": [
      " 27%|██▋       | 4/15 [01:19<02:59, 16.32s/it]"
     ]
    },
    {
     "name": "stdout",
     "output_type": "stream",
     "text": [
      "----------------------------------------\n"
     ]
    },
    {
     "name": "stderr",
     "output_type": "stream",
     "text": [
      " 33%|███▎      | 5/15 [01:31<02:27, 14.73s/it]"
     ]
    },
    {
     "name": "stdout",
     "output_type": "stream",
     "text": [
      "----------------------------------------\n"
     ]
    },
    {
     "name": "stderr",
     "output_type": "stream",
     "text": [
      " 40%|████      | 6/15 [01:43<02:04, 13.88s/it]"
     ]
    },
    {
     "name": "stdout",
     "output_type": "stream",
     "text": [
      "----------------------------------------\n"
     ]
    },
    {
     "name": "stderr",
     "output_type": "stream",
     "text": [
      " 47%|████▋     | 7/15 [01:55<01:45, 13.20s/it]"
     ]
    },
    {
     "name": "stdout",
     "output_type": "stream",
     "text": [
      "----------------------------------------\n"
     ]
    },
    {
     "name": "stderr",
     "output_type": "stream",
     "text": [
      " 53%|█████▎    | 8/15 [02:07<01:29, 12.74s/it]"
     ]
    },
    {
     "name": "stdout",
     "output_type": "stream",
     "text": [
      "----------------------------------------\n"
     ]
    },
    {
     "name": "stderr",
     "output_type": "stream",
     "text": [
      " 60%|██████    | 9/15 [02:18<01:14, 12.42s/it]"
     ]
    },
    {
     "name": "stdout",
     "output_type": "stream",
     "text": [
      "----------------------------------------\n"
     ]
    },
    {
     "name": "stderr",
     "output_type": "stream",
     "text": [
      " 67%|██████▋   | 10/15 [02:30<01:00, 12.19s/it]"
     ]
    },
    {
     "name": "stdout",
     "output_type": "stream",
     "text": [
      "----------------------------------------\n"
     ]
    },
    {
     "name": "stderr",
     "output_type": "stream",
     "text": [
      " 73%|███████▎  | 11/15 [02:42<00:48, 12.06s/it]"
     ]
    },
    {
     "name": "stdout",
     "output_type": "stream",
     "text": [
      "----------------------------------------\n"
     ]
    },
    {
     "name": "stderr",
     "output_type": "stream",
     "text": [
      " 80%|████████  | 12/15 [02:54<00:35, 11.94s/it]"
     ]
    },
    {
     "name": "stdout",
     "output_type": "stream",
     "text": [
      "----------------------------------------\n"
     ]
    },
    {
     "name": "stderr",
     "output_type": "stream",
     "text": [
      " 87%|████████▋ | 13/15 [03:05<00:23, 11.77s/it]"
     ]
    },
    {
     "name": "stdout",
     "output_type": "stream",
     "text": [
      "----------------------------------------\n"
     ]
    },
    {
     "name": "stderr",
     "output_type": "stream",
     "text": [
      " 93%|█████████▎| 14/15 [03:16<00:11, 11.65s/it]"
     ]
    },
    {
     "name": "stdout",
     "output_type": "stream",
     "text": [
      "----------------------------------------\n"
     ]
    },
    {
     "name": "stderr",
     "output_type": "stream",
     "text": [
      "100%|██████████| 15/15 [03:28<00:00, 13.88s/it]"
     ]
    },
    {
     "name": "stdout",
     "output_type": "stream",
     "text": [
      "----------------------------------------\n"
     ]
    },
    {
     "name": "stderr",
     "output_type": "stream",
     "text": [
      "\n"
     ]
    },
    {
     "name": "stdout",
     "output_type": "stream",
     "text": [
      "Random Forest Model Results\n",
      "----------------------------------------\n",
      "Accuracy Score : 0.9131398823869662\n",
      "Precision Score : 0.8718260869565218\n",
      "Recall Score : 0.9683214216727835\n",
      "F1 Score : 0.9175436990939873\n",
      "Confusion Matrix : \n",
      "[[4459  737]\n",
      " [ 164 5013]]\n"
     ]
    },
    {
     "data": {
      "image/png": "[encoded data removed]",
      "text/plain": [
       "<Figure size 432x288 with 2 Axes>"
      ]
     },
     "metadata": {
      "needs_background": "light"
     },
     "output_type": "display_data"
    },
    {
     "name": "stdout",
     "output_type": "stream",
     "text": [
      "Training Naive Bayes Model\n"
     ]
    },
    {
     "name": "stderr",
     "output_type": "stream",
     "text": [
      " 13%|█▎        | 2/15 [00:36<03:14, 14.99s/it]"
     ]
    },
    {
     "name": "stdout",
     "output_type": "stream",
     "text": [
      "----------------------------------------\n",
      "----------------------------------------\n",
      "----------------------------------------\n"
     ]
    },
    {
     "name": "stderr",
     "output_type": "stream",
     "text": [
      " 40%|████      | 6/15 [00:36<00:26,  3.00s/it]"
     ]
    },
    {
     "name": "stdout",
     "output_type": "stream",
     "text": [
      "----------------------------------------\n",
      "----------------------------------------\n",
      "----------------------------------------\n",
      "----------------------------------------\n"
     ]
    },
    {
     "name": "stderr",
     "output_type": "stream",
     "text": [
      " 80%|████████  | 12/15 [00:36<00:02,  1.28it/s]"
     ]
    },
    {
     "name": "stdout",
     "output_type": "stream",
     "text": [
      "----------------------------------------\n",
      "----------------------------------------\n",
      "----------------------------------------\n",
      "----------------------------------------\n",
      "----------------------------------------\n"
     ]
    },
    {
     "name": "stderr",
     "output_type": "stream",
     "text": [
      "100%|██████████| 15/15 [00:37<00:00,  2.47s/it]\n"
     ]
    },
    {
     "name": "stdout",
     "output_type": "stream",
     "text": [
      "----------------------------------------\n",
      "----------------------------------------\n",
      "----------------------------------------\n",
      "Naive Bayes Model Results\n",
      "----------------------------------------\n",
      "Accuracy Score : 0.7928275330184131\n",
      "Precision Score : 0.7109810479375697\n",
      "Recall Score : 0.9855128452771875\n",
      "F1 Score : 0.826034161742087\n",
      "Confusion Matrix : \n",
      "[[3122 2074]\n",
      " [  75 5102]]\n"
     ]
    },
    {
     "data": {
      "image/png": "[encoded data removed]",
      "text/plain": [
       "<Figure size 432x288 with 2 Axes>"
      ]
     },
     "metadata": {
      "needs_background": "light"
     },
     "output_type": "display_data"
    },
    {
     "data": {
      "text/plain": [
       "(GaussianNB(),\n",
       "        rating  reviewUsefulCount  friendCount  reviewCount  firstCount  \\\n",
       " 30018       5                  0            0           14           1   \n",
       " 24958       5                  0            0            8           0   \n",
       " 33318       1                  0            0            1           0   \n",
       " 19271       2                  0            3           37          10   \n",
       " 22756       3                  0            1           15           0   \n",
       " ...       ...                ...          ...          ...         ...   \n",
       " 19722       4                  1            6           15           2   \n",
       " 6857        5                  0            0            4           0   \n",
       " 35661       4                  0            0            5           0   \n",
       " 25332       5                  0            0            6           0   \n",
       " 11856       2                  4           20           11           1   \n",
       " \n",
       "        scaledReviewPerDay  reviewsLength  reviewsDeviation  \\\n",
       " 30018            0.083333            177             0.250   \n",
       " 24958            0.083333             56             0.250   \n",
       " 33318            0.083333             24             0.750   \n",
       " 19271            0.083333            293             0.500   \n",
       " 22756            0.083333            207             0.250   \n",
       " ...                   ...            ...               ...   \n",
       " 19722            0.083333             64             0.000   \n",
       " 6857             0.083333             36             0.250   \n",
       " 35661            0.083333             64             0.000   \n",
       " 25332            0.166667             36             0.375   \n",
       " 11856            0.083333            398             0.500   \n",
       " \n",
       "        maximumContentSimilarity  \\\n",
       " 30018                  0.059574   \n",
       " 24958                  0.000000   \n",
       " 33318                  0.000000   \n",
       " 19271                  0.000000   \n",
       " 22756                  0.032193   \n",
       " ...                         ...   \n",
       " 19722                  0.000000   \n",
       " 6857                   0.000000   \n",
       " 35661                  0.000000   \n",
       " 25332                  0.026279   \n",
       " 11856                  0.138325   \n",
       " \n",
       "                                                                                                                                                                                                                                                                                                                                                                                                                                                                                                                                                                                                                                                                                                                                                                                                                                                                                                                                                                                                                                                                                                                                                                                                                                                                                                                                                                                                                                                                                                                                                                                                                                                                            reviewContent  \\\n",
       " 30018                                                                                                                                                                                                                                                                                                                                                                                                                                                                                                                                                                                                                                                                                                                                                                                                                                                                                    ฉันพาแฟนสาวมาที่นี่เพื่อวันวาเลนไทน์และเราทั้งคู่ก็ชอบมันพวกเขามีเมนูราคาคงที่ในคืนนั้นหรือหนึ่งอาจสั่งซื้อจากเมนูปกติซึ่งเราทำชีสและสมุนไพร croquettes ต้องตายเพื่อต้องแน่นอนฉันมี Catfish Pecan ซึ่งยอดเยี่ยมแม้ว่าพีแคนมากเกินไปสำหรับฉันไม่ต้องกังวลมันยังคงอร่อยอยู่แฟนของฉันมีจานพาสต้าเห็ดและชอบมันเช่นกันเราเต็มเกินไปสำหรับของหวาน แต่มีเค้กกำมะหยี่สีแดงชิ้นหนึ่งไปอย่างที่ทุกคนดูเหมือนจะทราบที่นี่มันวิเศษมากบริการยอดเยี่ยมแม้ในคืนนี้ที่วุ่นวายบรรยากาศมีระดับอย่างไม่เป็นทางการถึงแม้ว่าจะไม่มีอะไรพิเศษจริงๆเมื่อมันมาถึงการทำอาหารใต้ฉันเป็นผู้ชายนิวออร์ลีนส์มากกว่าฉันไม่ได้มีอะไรที่นี่ที่สามารถแข่งขันกับอาหารประเภทที่คุณสามารถ หรือเคยเป็น ได้ทุกที่ในนิวออร์ลีนส์แต่นั่นเป็นคำสั่งที่ค่อนข้างสูงBig Jones เป็นประสบการณ์ที่ยอดเยี่ยมและฉันจะลองอีกครั้งอย่างแน่นอนอร่อย   \n",
       " 24958                                                                                                                                                                                                                                                                                                                                                                                                                                                                                                                                                                                                                                                                                                                                                                                                                                                                                                                                                                                                                                                                                                                                                                                                                                                                                                                                                                                                                    สถานที่ที่ยอดเยี่ยมสำหรับการแวะมาตลอดเวลาสำหรับการจับคู่อาหารและเบียร์แสนอร่อยเป็นสถานที่ที่ดีในการดื่มและอ่านกระดาษ/นิตยสาร/หนังสือหรือไปกับเพื่อนหรือบีบหลักในปัจจุบันของคุณส่วนที่ใจดีพนักงานเป็นมิตรและมีความรู้ทำเลที่ตั้งดีเยี่ยมและลานที่น่ารักเมื่อเปิด   \n",
       " 33318                                                                                                                                                                                                                                                                                                                                                                                                                                                                                                                                                                                                                                                                                                                                                                                                                                                                                                                                                                                                                                                                                                                                                                                                                                                                                                                                                                                                                                                                                                                                                                     พวกเขาไม่รับโทรศัพท์บอกทุกสิ่งที่คุณต้องรู้เกี่ยวกับบริการของพวกเขาที่นี่นึกภาพไม่ออกเลยว่ากินในสถานที่แบบนั้น   \n",
       " 19271                                                                                                                                                                                                                                                                                                                                                                                                                                                                                                                        หลังจากอ่านบทวิจารณ์เชิงบวกส่วนใหญ่เกี่ยวกับ Yelp เกี่ยวกับสถานที่นี้ฉันอยากจะชอบมันจริงๆ แต่อนิจจามันเป็นค่าเฉลี่ยที่ดีที่สุด ฉันไปในคืนวันพุธและรู้สึกประหลาดใจที่มันยุ่งแค่ไหน ครั้งแรกที่ดี 1 การตกแต่งไม่เลวและบรรยากาศก็เชิญชวน 2 เซิร์ฟเวอร์ของเราใส่ใจมากและตอบคำถามทั้งหมดของเราและโดยรวมแล้วก็น่าพอใจโดยทั่วไป 3 มันเทศมากิดีมาก ตอนนี้แย่ 1 Nigiri ที่ฉันมี หอยเชลล์และปลากะพง เป็น blah ที่ดีที่สุดไม่มีอะไรน่าทึ่งเกี่ยวกับพวกเขาเลย ม้วน maki ที่ฉันมี ฉันเชื่อว่ามันเป็นแดด เป็นปานกลางไม่ได้มีรสชาติมากนัก 2 แม้ทุกคนจะพูดเกี่ยวกับ Crab Rangoon จากสถานที่นี้ แต่ก็เป็นค่าเฉลี่ยที่ดีที่สุด ฉันอยู่ในภารกิจเพื่อหาปูที่สมบูรณ์แบบในเมืองนี้ ด้านในของมันค่อนข้างซุปและพวกเขาก็หนาวเล็กน้อย พวกเขาน่ารักแม้ว่า เหม่ย Shung และใช่ไทยมีวิธีที่ดีกว่าย่างกุ้ง 3 ก่อนที่เราจะจากไปฉันสั่งแกงสเต็กสีเหลืองให้ไปเพราะฉันอยากลองทานอาหารเย็นในคืนถัดไป วันรุ่งขึ้นสำหรับมื้อเย็นฉันเปิดกระเป๋าและสิ่งที่อยู่ในนั้น  แกงสเต็กสีเหลืองกับสเต็ก น่ารำคาญมากแท็กเย็บออกไปด้านนอกของกระเป๋ากล่าวว่าเต้าหู้ ไม่จำเป็นต้องพูดว่าฉันค่อนข้างรำคาญและนั่นก็กระแทกมันลงโดยอัตโนมัติหนึ่งดาว ฉันอยากจะชอบสถานที่แห่งนี้จริงๆ แต่มันก็ไม่มีมาตรฐานที่ดีที่สุด   \n",
       " 22756                                                                                                                                                                                                                                                                                                                                                                                                                                                                                                                                                                                                                                                                                                                                                                                                                                                                                                    ดังนั้นฉันจึงอยู่ที่ Q ในคืนวันเสาร์นี้สำหรับวันเกิดเพื่อนเรามีการจอง 11 คนสำหรับเวลา 2100 นฉันมาถึงเวลา 845 น ดังนั้นฉันจึงสามารถตั้งค่าโต๊ะสำหรับเด็กผู้หญิง Bday ได้เห็นได้ชัดว่าพวกเขาแออัดและจองมากเกินไปเราลงเอยด้วยการไม่ได้นั่งจนถึง 2130 นเราขอให้โฮสต์เพื่ออัปเดตเกี่ยวกับเวลาเมื่อผู้จัดการตัดสินใจที่จะโกหกเราและบอกเราว่าพวกเขาใช้เวลาสาย 15 นาทีและการจองของเราคือเวลา 915 น ไม่ใช่เวลา 930 นนี่เป็นเรื่องโกหกที่สมบูรณ์เมื่อฉันมองข้ามไหล่ของเขาและเห็นว่ามันบอกว่า 2100 นในที่สุดเราก็นั่งโดยไม่มีคำขอโทษไม่มีอาหารเรียกน้ำย่อยฟรีสำหรับความล่าช้าของเรา แต่ฉันก็ปล่อยให้มันจากนั้นบริกรของเราก็จมลงอย่างสมบูรณ์และใช้เวลาประมาณ 20 นาทีเพื่อรับเครื่องดื่มของเราฉันจะบอกว่าอาหารนั้นยอดเยี่ยมซึ่งฉันให้พวกเขา 3 ดาว แต่การบริการลูกค้าของพวกเขาไม่ดีกว่า 1 ดาว   \n",
       " ...                                                                                                                                                                                                                                                                                                                                                                                                                                                                                                                                                                                                                                                                                                                                                                                                                                                                                                                                                                                                                                                                                                                                                                                                                                                                                                                                                                                                                                                                                                                                                                                                                                                                                  ...   \n",
       " 19722                                                                                                                                                                                                                                                                                                                                                                                                                                                                                                                                                                                                                                                                                                                                                                                                                                                                                                                                                                                                                                                                                                                                                                                                                                                                                                                                                                                      ว้าวนี่เป็นสิ่งที่ยอดเยี่ยมและอร่อยอาหารเต็มไปด้วยรสชาติที่สดใหม่สดและสดชื่นฉันแนะนำให้เดินทางไปชิคาโกหรือไปยังฝูงชนในท้องถิ่นฉันสนุกกับสลัดกรีกในประเทศถั่วขาวและซุปมะเขือเทศใบองุ่นและกาแฟกรีกและคุกกี้แบบดั้งเดิมฉันอยู่กับกลุ่มเพื่อนดังนั้นจึงเป็นเรื่องดีที่จะได้ลองชิมเลือกที่หลากหลาย   \n",
       " 6857                                                                                                                                                                                                                                                                                                                                                                                                                                                                                                                                                                                                                                                                                                                                                                                                                                                                                                                                                                                                                                                                                                                                                                                                                                                                                                                                                                                                                                                                                       ร้านอาหารเอธิโอเปียที่ดีเมื่อคืนกับเพื่อนทุกอย่างยอดเยี่ยมรวมถึงบริการSambussas นั้นดีมากสำหรับอาหารเรียกน้ำย่อยต้องได้รับเราทำแผ่นเสียงมังสวิรัติทุกสิ่งที่เรามีอร่อยมากฉันขอแนะนำสถานที่นี้   \n",
       " 35661                                                                                                                                                                                                                                                                                                                                                                                                                                                                                                                                                                                                                                                                                                                                                                                                                                                                                                                                                                                                                                                                                                                                                                                                                                                                                                                                                                                                                     ฉันเป็นคนรักเนื้อสัตว์ดังนั้นทุก ๆ สองสามเดือนฉันจะไปที่นี่เพื่อรักษาตัวเองด้วยอาหารที่น่าพอใจขนมปังชีสฟรีของพวกเขาอร่อยฉันชอบสเต็กพิเศษบ้านของพวกเขาซึ่งฉ่ำและอ่อนโยนมากพวกเขาให้เกลือและพริกไทยบนโต๊ะ แต่ฉันหวังว่าพวกเขาจะสามารถให้ sause ได้เช่นกันเช่น A1   \n",
       " 25332                                                                                                                                                                                                                                                                                                                                                                                                                                                                                                                                                                                                                                                                                                                                                                                                                                                                                                                                                                                                                                                                                                                                                                                                                                                                                                                                                                                                                                                                                                                                      บาร์ด้านหลังทำให้คุณรู้สึกราวกับว่าคุณถูกส่งไปยังประเทศจีน - สุดยอดมากมาร์ตินี่ลูกแพร์ที่ดีที่สุดในเมือง แอพที่ยอดเยี่ยมเช่นกันเงินสดเท่านั้น   \n",
       " 11856  ไปที่นี่มาระยะหนึ่งแล้ว ไม่เคยผิดหวังจนกระทั่งเมื่อไม่นานมานี้ ฉันต้องปฏิเสธว่าฉันแบ่งปันสิ่งนี้กับคุณในฐานะเพื่อนร่วมงานที่สามารถชื่นชมความสำคัญของการแต่งงานกับคุณภาพของอาหารด้วยคุณภาพการบริการ อ่านต่อเพื่อประสบการณ์ที่ไร้สาระที่นี่  ฉันสั่งปีกไก่รมควันสำหรับผู้เริ่มต้นของฉันตามปกติ พวกเขามาถึง  ฉันเริ่ม  อร่อย และจากนั้นฉันก็มองเข้าไปในสแต็คของฉันที่ดีของปีกไก่รมควันและสังเกต   รอมัน  ออกจากปีกโหลไม่มีดรัมเกตต์เป็นศูนย์ โอเคนี่เป็นส่วนหนึ่งของเรื่องราวที่คุณอ่านหรือหยุดและทำให้ฉันเป็นเพียงนักชิมคนอื่น A-hem อย่างไรก็ตามมันเป็นประสบการณ์ของฉันที่เมื่อสั่ง Wings ทุกที่มีอัตราส่วนง่อยอยู่เสมอ Wings to Drumettes  สมมติว่า 4 ถึง 1 1 เป็น Drumette ดังนั้นฉันจึงเรียกพนักงานเสิร์ฟมากกว่า  อธิบายการกำกับดูแลที่ไร้สาระนี้อย่างไม่ตั้งใจ  และเขามองฉันเหมือนฉันกำลังพูดภาษากรีกและทันที ระบุว่าเขาไม่สามารถดูแลมันได้และนี่เป็นปัญหาสำหรับผู้จัดการฉันหัวเราะและคิดว่าเขาล้อเล่นไม่กี่นาทีต่อมาเธอ ผู้จัดการ มาและถามว่าปัญหาคืออะไรฉันอธิบายอย่างสุภาพเธอเข้าใจ แต่ จากนั้นปกป้องห้องครัวของเธอโดยบอกว่า พ่อครัวไม่ได้รับการฝึกฝน ในพื้นที่นั้นฉันเกี่ยวกับสำลักจริงเหรอ  ดีตามราคามันอาจถึงเวลาที่คุณสอนพ่อครัวของคุณให้ดูจานก่อนที่มัน แล้วการเถียงกับลูกค้าก็มีรสนิยมที่ไม่ดีเช่นกันฉันได้รับปีกไก่รมควันจานใหม่  และบอกฉันว่า  ของคุณ  ผู้จัดการให้ Drumettes ทั้งหมดแก่ฉัน เมื่อบริกรส่งจานใหม่  เขาแสดงความคิดเห็นอย่างหยาบคาย  คุณรู้ไหมมันพูดปีกในเมนู ไม่ได้เรื่อง ไม่ได้ บอล ส่วนที่เหลือของมื้ออาหารนั้นยอดเยี่ยมนอกเหนือจาก Bloody Mary ที่ไม่มีรสชาติ สำหรับบันทึก  ชื่อบริกรที่ไร้ชีวิตของฉันคือคริสโตเฟอร์และผู้จัดการครึ่งหนึ่งที่ชอบท้าทายลูกค้าที่จ่ายเงินชื่อของเธอคือมิเชล อาหารดีกว่าคนที่ทำงานที่นั่นอย่างชัดเจน ครั้งต่อไปให้ออก   \n",
       " \n",
       "       flagged predicted  \n",
       " 30018       Y         Y  \n",
       " 24958       Y         Y  \n",
       " 33318       Y         Y  \n",
       " 19271       N         N  \n",
       " 22756       Y         Y  \n",
       " ...       ...       ...  \n",
       " 19722       N         N  \n",
       " 6857        N         Y  \n",
       " 35661       Y         Y  \n",
       " 25332       Y         Y  \n",
       " 11856       N         N  \n",
       " \n",
       " [10373 rows x 12 columns])"
      ]
     },
     "execution_count": 23,
     "metadata": {},
     "output_type": "execute_result"
    }
   ],
   "source": [
    "model, results = semi_supervised_learning(over_sampled_df, model=rf, threshold=0.7, iterations=15, algorithm='Random Forest')\n",
    "semi_supervised_learning(over_sampled_df, model=nb, threshold=0.7, iterations=15, algorithm='Naive Bayes')"
   ]
  },
  {
   "cell_type": "code",
   "execution_count": 24,
   "metadata": {},
   "outputs": [],
   "source": [
    "results.to_csv('../Data/thai_results.csv', index=False)"
   ]
  }
 ],
 "metadata": {
  "kernelspec": {
   "display_name": "Python 3.9.12 64-bit",
   "language": "python",
   "name": "python3"
  },
  "language_info": {
   "codemirror_mode": {
    "name": "ipython",
    "version": 3
   },
   "file_extension": ".py",
   "mimetype": "text/x-python",
   "name": "python",
   "nbconvert_exporter": "python",
   "pygments_lexer": "ipython3",
   "version": "3.9.12"
  },
  "orig_nbformat": 4,
  "vscode": {
   "interpreter": {
    "hash": "4d2032d7104da15a9d10fd1a2c136158f111ee2ad9d0f9c669774920547ee53a"
   }
  }
 },
 "nbformat": 4,
 "nbformat_minor": 2
}
