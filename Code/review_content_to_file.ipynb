{
 "cells": [
  {
   "cell_type": "code",
   "execution_count": 1,
   "metadata": {},
   "outputs": [],
   "source": [
    "import sqlite3\n",
    "import pandas as pd\n",
    "import numpy as np\n",
    "import re\n",
    "from nltk.corpus import stopwords"
   ]
  },
  {
   "cell_type": "code",
   "execution_count": 2,
   "metadata": {},
   "outputs": [],
   "source": [
    "def load_data():\n",
    "    conn = sqlite3.connect(\"../Data/yelpResData.db\")\n",
    "    conn.text_factory = lambda x: str(x, 'gb2312', 'ignore')\n",
    "    cursor = conn.cursor()\n",
    "    \n",
    "    # Create Review DataFrame\n",
    "    cursor.execute(\n",
    "        \"SELECT reviewID, reviewerID, restaurantID, date, rating, usefulCount as reviewUsefulCount, reviewContent, flagged FROM review WHERE flagged in ('Y','N')\")\n",
    "    review_df = pd.DataFrame(cursor.fetchall(), columns=[column[0] for column in cursor.description])\n",
    "\n",
    "    # Create Reviewer DataFrame\n",
    "    cursor.execute(\"SELECT * FROM reviewer\")\n",
    "    reviewer_df = pd.DataFrame(cursor.fetchall(), columns=[column[0] for column in cursor.description])\n",
    "\n",
    "    # Create Restaurant DataFrame\n",
    "    cursor.execute(\"SELECT restaurantID, rating as restaurantRating FROM restaurant\")\n",
    "    restaurant_df = pd.DataFrame(cursor.fetchall(), columns=[column[0] for column in cursor.description])\n",
    "\n",
    "    # Merge all DataFrames\n",
    "    review_reviewer_df = review_df.merge(reviewer_df, on='reviewerID', how='inner')\n",
    "    df = review_reviewer_df.merge(restaurant_df, on='restaurantID', how='inner')\n",
    "    return df"
   ]
  },
  {
   "cell_type": "code",
   "execution_count": 3,
   "metadata": {},
   "outputs": [],
   "source": [
    "df = load_data()"
   ]
  },
  {
   "cell_type": "code",
   "execution_count": 4,
   "metadata": {},
   "outputs": [],
   "source": [
    "fake_df = df[df['flagged'] == 'Y']\n",
    "fake_df.reset_index(drop=True, inplace=True)"
   ]
  },
  {
   "cell_type": "code",
   "execution_count": 5,
   "metadata": {},
   "outputs": [],
   "source": [
    "non_fake_df = df[df['flagged'] == 'N']\n",
    "non_fake_df.reset_index(drop=True, inplace=True)"
   ]
  },
  {
   "cell_type": "code",
   "execution_count": 6,
   "metadata": {},
   "outputs": [],
   "source": [
    "content_y_legnth = len(fake_df)\n",
    "content_n_legnth = len(non_fake_df)"
   ]
  },
  {
   "cell_type": "code",
   "execution_count": 7,
   "metadata": {},
   "outputs": [],
   "source": [
    "ROUND = 10"
   ]
  },
  {
   "cell_type": "code",
   "execution_count": 8,
   "metadata": {},
   "outputs": [],
   "source": [
    "n_y = content_y_legnth // ROUND\n",
    "n_n = content_n_legnth // ROUND"
   ]
  },
  {
   "cell_type": "code",
   "execution_count": 9,
   "metadata": {},
   "outputs": [
    {
     "data": {
      "text/plain": [
       "(6206, 20752)"
      ]
     },
     "execution_count": 9,
     "metadata": {},
     "output_type": "execute_result"
    }
   ],
   "source": [
    "content_y_legnth, content_n_legnth"
   ]
  },
  {
   "cell_type": "code",
   "execution_count": 10,
   "metadata": {},
   "outputs": [],
   "source": [
    "str_y = ''\n",
    "str_n = ''"
   ]
  },
  {
   "cell_type": "code",
   "execution_count": 11,
   "metadata": {},
   "outputs": [],
   "source": [
    "for i in range(ROUND):\n",
    "    if i == ROUND - 1:\n",
    "        content_y = fake_df.iloc[i*n_y:]\n",
    "        content_n = non_fake_df.iloc[i*n_n:]\n",
    "    else:\n",
    "        content_y = fake_df.iloc[i*n_y:(i+1)*n_y]\n",
    "        content_n = non_fake_df.iloc[i*n_n:(i+1)*n_n]\n",
    "    str_y += content_y['reviewContent'].to_string(index=False)\n",
    "    str_n += content_n['reviewContent'].to_string(index=False)"
   ]
  },
  {
   "cell_type": "code",
   "execution_count": null,
   "metadata": {},
   "outputs": [],
   "source": []
  }
 ],
 "metadata": {
  "kernelspec": {
   "display_name": "Python 3.9.12 64-bit",
   "language": "python",
   "name": "python3"
  },
  "language_info": {
   "codemirror_mode": {
    "name": "ipython",
    "version": 3
   },
   "file_extension": ".py",
   "mimetype": "text/x-python",
   "name": "python",
   "nbconvert_exporter": "python",
   "pygments_lexer": "ipython3",
   "version": "3.9.12"
  },
  "orig_nbformat": 4,
  "vscode": {
   "interpreter": {
    "hash": "4d2032d7104da15a9d10fd1a2c136158f111ee2ad9d0f9c669774920547ee53a"
   }
  }
 },
 "nbformat": 4,
 "nbformat_minor": 2
}
